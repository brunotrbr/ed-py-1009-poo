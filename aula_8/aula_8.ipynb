{
  "cells": [
    {
      "cell_type": "markdown",
      "metadata": {
        "id": "EO_j4mSfO4l_"
      },
      "source": [
        "# Programação Orientada a Objetos - Aula 8\n",
        "\n",
        "## Diagrama de Classes UML\n",
        "\n",
        "- Linguagem de modelagem unificada (UML)\n",
        "- Padronizada, utilizada para modelar classes e relacionamentos de sistemas\n",
        "- Independe de implementação ou linguagem de programação\n"
      ]
    },
    {
      "cell_type": "markdown",
      "metadata": {
        "id": "4WHgZS1axdNA"
      },
      "source": [
        "### Benefícios\n",
        "\n",
        "- Ilustrar modelos de dados para sistemas de informação, não importa quão simples ou complexo.\n",
        "\n",
        "- Entender melhor a visão geral dos esquemas de uma aplicação.\n",
        "\n",
        "- Expressar visualmente as necessidades específicas de um sistema e divulgar essas informações por toda a empresa.\n",
        "\n",
        "- Criar gráficos detalhados que destacam qualquer código específico necessário para ser programado e implementado na estrutura descrita.\n",
        "\n",
        "- Fornecer uma descrição independente de implementação de tipos utilizados em um sistema e passados posteriormente entre seus componentes.\n"
      ]
    },
    {
      "cell_type": "markdown",
      "metadata": {
        "id": "z1F2pbiSxkSh"
      },
      "source": [
        "### Programa utilizado para modelar os diagramas\n",
        "\n",
        "Draw IO (https://draw.io/)\n",
        "\n",
        "&nbsp;\n",
        "\n"
      ]
    },
    {
      "cell_type": "markdown",
      "metadata": {
        "id": "OpWk5IXbxosD"
      },
      "source": [
        "### Formato da classe no diagrama\n",
        "\n",
        "- Retângulo com 3 linhas onde:\n",
        "  - Linha superior: nome da classe\n",
        "  - Linha do meio: atributos (opcional)\n",
        "  - Linha inferior: métodos (opcional)\n",
        "\n",
        "&nbsp;\n",
        "\n",
        "<img src=https://upload.wikimedia.org/wikipedia/commons/f/f0/Diagrama_de_Classes_com_duas_classes.png width=400>\n",
        "\n",
        "&nbsp;\n",
        "\n",
        "Elementos do diagrama de classe:\n",
        "\n",
        "- **Classe**: Elemento abstrato que representa um conjunto de objetos. A classe contém a especificação do objeto; suas características: atributos (características) e métodos (ações / comportamentos).\n",
        "  - **Atributo**: Define características da classe como:\n",
        "    - Visibilidade:\n",
        "        - **Pública**, representada pelo símbolo **+**: onde outras classes podem ter acesso ao atributo;\n",
        "        - **Privada**, representada pelo símbolo **-**: o atributo somente é acessado diretamente pela própria classe e;\n",
        "        - **Protegida**, representada pelo símbolo **#**:, ou\n",
        "        - **Pacote**, representada pelo símbolo **~**:, que é acessado pelo relacionamento da classe com a classe externa.\n",
        "    - Nome: Identificação do atributo.\n",
        "    - Tipo de dados: Tipo de dado do atributo.\n",
        "    - Multiplicidade: Relacionamentos (0..1, 0..\\*, 1, 1..\\*, 2, 3..7)\n",
        "    - Valor inicial: Depende da linguagem de programação, valor opcional.\n",
        "      - Propriedade: Características do elemento, opcional.\n",
        "  - **Operação**: Função requerida a um objeto abstrato. Os métodos\n",
        "    - Nome, Visibilidade e Parâmetros.\n",
        "  - **Associação**: Relacionamentos entre classes.\n",
        "    - Nome: Nome da associação.\n",
        "    - Multiplicidade.\n",
        "    - Navegação: De onde vêm as informações da classe e para onde vão."
      ]
    },
    {
      "cell_type": "markdown",
      "metadata": {
        "id": "VEmZSRGWxrdz"
      },
      "source": [
        "### Relacionamento entre classes\n",
        "\n",
        "- Relacionamento entre objetos\n",
        "- Ex: professor x disciplina, cliente e reserva de sala, etc\n",
        "\n",
        "- Podem ser do tipo:\n",
        "  - Associação (agregação)\n",
        "  - Composição\n",
        "  - Agregação regular\n",
        "  - Herança (especialização)\n",
        "  - Dependências\n",
        "\n",
        "####  Associação (Agregação)\n",
        "\n",
        "- Especificam que uma classe está ligada a objetos de outras classes.\n",
        "- Indica que as instâncias das classes são conectadas, seja fisicamente ou conceitualmente.\n",
        "\n",
        "&nbsp;\n",
        "\n",
        "**Símbolo no diagrama:**\n",
        "\n",
        "<img src=https://ida8x1uljntv.objectstorage.us-ashburn-1.oci.customer-oci.com/n/ida8x1uljntv/b/poo-ada/o/uml_associacao.png width=200>\n",
        "\n",
        "&nbsp;\n",
        "\n",
        "#### Composição\n",
        "\n",
        "- Relação de contenção, onde um objeto(chamado aqui de container) **contém** outros objetos (chamado aqui de elementos).\n",
        "- Elementos contidos em uma classe dependem da classe para sobreviver. Se remover a classe, remove os elementos contidos nela. Ex: Nota Fiscal e produtos\n",
        "\n",
        "Uma forma de verificar se uma determinada classe A tem uma relação de composição com uma classe B. É fazer a seguinte pergunta: \"A classe A está contida na classe B?\". Caso a resposta seja positiva existe uma relação de composição entre as duas classes. \n",
        "\n",
        "&nbsp;\n",
        "\n",
        "**Símbolo no diagrama:**\n",
        "\n",
        "<img src=https://ida8x1uljntv.objectstorage.us-ashburn-1.oci.customer-oci.com/n/ida8x1uljntv/b/poo-ada/o/uml_composicao.png\n",
        "width=200>\n",
        "\n",
        "&nbsp;\n",
        "\n",
        "#### Agregação Regular\n",
        "\n",
        "- Associação onde o objeto parte é atributo do todo. \n",
        "- O objeto parte existe, independente do objeto todo\n",
        "Ex: Rodas de um carro.\n",
        "\n",
        "&nbsp;\n",
        "\n",
        "**Símbolo no diagrama:**\n",
        "\n",
        "<img src=https://ida8x1uljntv.objectstorage.us-ashburn-1.oci.customer-oci.com/n/ida8x1uljntv/b/poo-ada/o/uml_agregacao.png\n",
        " width=200>\n",
        "\n",
        "&nbsp;\n",
        "\n",
        "#### Especialização ou Generalização\n",
        "\n",
        "- Também conhecida como herança, representa as dependências e hierarquias.\n",
        "\n",
        "&nbsp;\n",
        "\n",
        "**Símbolo no diagrama:**\n",
        "\n",
        "<img src=https://ida8x1uljntv.objectstorage.us-ashburn-1.oci.customer-oci.com/n/ida8x1uljntv/b/poo-ada/o/uml_heranca.png\n",
        "width=200>\n",
        "\n",
        "ou\n",
        "\n",
        "<img src=https://ida8x1uljntv.objectstorage.us-ashburn-1.oci.customer-oci.com/n/ida8x1uljntv/b/poo-ada/o/uml_heranca_2.png\n",
        "width=200>\n",
        "\n",
        "&nbsp;\n",
        "\n",
        "#### Dependência\n",
        "- Relacionamentos onde uma mudança na especificação de um elemento pode alterar a especificação do elemento dependente.\n",
        "\n",
        "&nbsp;\n",
        "\n",
        "**Símbolo no diagrama:**\n",
        "\n",
        "<img src=https://ida8x1uljntv.objectstorage.us-ashburn-1.oci.customer-oci.com/n/ida8x1uljntv/b/poo-ada/o/uml_dependencia.png\n",
        "width=200>\n",
        "\n",
        "ou\n",
        "\n",
        "<img src=https://ida8x1uljntv.objectstorage.us-ashburn-1.oci.customer-oci.com/n/ida8x1uljntv/b/poo-ada/o/uml_dependencia_2.png\n",
        "width=200>\n",
        "\n",
        "&nbsp;\n",
        "\n"
      ]
    },
    {
      "cell_type": "markdown",
      "metadata": {
        "id": "vtzA16wexx54"
      },
      "source": [
        "### Multiplicidade\n",
        "\n",
        "Os tipos de multiplicidades existentes para determinar o relacionamento entre os objetos são:\n",
        "\n",
        "| Multiplicidade | Significado |\n",
        "| -------------- | ----------- |\n",
        "| 0..1 | No mínimo zero e no máximo um. Os objetos não precisam estar relacionados, porém se houver relacionamento deve ser de no máximo 1. |\n",
        "| 1..1 | Um e somente um |\n",
        "| 0..* | No mínimo nenhum e no máximo muitos|\n",
        "| *    | Muitos |\n",
        "| 1..* | No mínimo um e no máximo muitos |\n",
        "| 3..5 | No mínimo 3 e no máximo 5 |\n",
        "\n",
        "&nbsp;\n"
      ]
    },
    {
      "cell_type": "markdown",
      "metadata": {
        "id": "PcASVKjGx1Jb"
      },
      "source": [
        "#### Diagrama completo\n",
        "\n",
        "Exemplo de um diagrama completo para uma Pizzaria.\n",
        "\n",
        "<img src=https://ida8x1uljntv.objectstorage.us-ashburn-1.oci.customer-oci.com/n/ida8x1uljntv/b/poo-ada/o/uml_diagrama_completo.png\n",
        "width=600>"
      ]
    },
    {
      "cell_type": "markdown",
      "metadata": {
        "id": "D8yIRxSNv7ur"
      },
      "source": [
        "No site abaixo podemos ver uma lista de outros diagramas UML:\n",
        "\n",
        "https://creately.com/blog/pt/diagrama/guia-de-tipos-de-diagramas-uml-aprenda-sobre-todos-os-tipos-de-diagramas-uml-com-exemplos/"
      ]
    }
  ],
  "metadata": {
    "colab": {
      "provenance": []
    },
    "kernelspec": {
      "display_name": "Python 3",
      "language": "python",
      "name": "python3"
    },
    "language_info": {
      "name": "python",
      "version": "3.11.1"
    },
    "orig_nbformat": 4
  },
  "nbformat": 4,
  "nbformat_minor": 0
}
