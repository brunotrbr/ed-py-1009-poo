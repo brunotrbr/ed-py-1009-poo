{
 "cells": [
  {
   "cell_type": "markdown",
   "metadata": {},
   "source": [
    "# Programação Orientada a Objetos - Aula 6"
   ]
  },
  {
   "cell_type": "markdown",
   "metadata": {},
   "source": [
    "# Atributos estáticos\n",
    "\n",
    "- Atributo que pertence à classe, e não ao objeto instanciado daquela classe. \n",
    "\n",
    "Chamado também de:\n",
    "- `atributo de classe` ou `variável de classe`\n",
    "\n",
    "- Declarado diretamente na classe\n",
    "\n",
    "```python\n",
    "class Teste():\n",
    "    atributo_estatico = 'nome'\n",
    "```\n",
    "\n",
    "- Acessível independente de instâncias da classe\n",
    "\n",
    "Sintaxe para uso:\n",
    "\n",
    "```python\n",
    "nome_da_classe.nome_do_atributo\n",
    "```\n",
    "\n",
    "Exemplo de uso: Controle dos CPFs já cadastrados"
   ]
  },
  {
   "cell_type": "code",
   "execution_count": null,
   "metadata": {},
   "outputs": [],
   "source": []
  },
  {
   "cell_type": "code",
   "execution_count": null,
   "metadata": {},
   "outputs": [],
   "source": []
  },
  {
   "cell_type": "markdown",
   "metadata": {},
   "source": [
    "Como controlar efetivamente os CPFs?\n",
    "\n",
    "Opção 1:\n",
    "- Validar os CPFs no nosso programa principal"
   ]
  },
  {
   "cell_type": "code",
   "execution_count": null,
   "metadata": {},
   "outputs": [],
   "source": []
  },
  {
   "cell_type": "markdown",
   "metadata": {},
   "source": [
    "Opção 2:\n",
    "- Validar o CPF no construtor da classe Titular:"
   ]
  },
  {
   "cell_type": "code",
   "execution_count": null,
   "metadata": {},
   "outputs": [],
   "source": []
  },
  {
   "cell_type": "code",
   "execution_count": null,
   "metadata": {},
   "outputs": [],
   "source": []
  },
  {
   "cell_type": "markdown",
   "metadata": {},
   "source": [
    "Problema!!!\n",
    "\n",
    "Uso do nome da classe. Em casos de refatoração, como fazer?\n",
    "\n",
    "```python\n",
    "nome_da_classe.nome_do_atributo\n",
    "```"
   ]
  },
  {
   "cell_type": "markdown",
   "metadata": {},
   "source": [
    "# Métodos de classe\n",
    "\n",
    "- Método que pertence à classe, e recebe a classe como parâmetro: `cls`\n",
    "\n",
    "Declarado da seguinte forma:\n",
    "\n",
    "```python\n",
    "@classmethod\n",
    "def metodo_de_classe(cls, parametros):\n",
    "```\n",
    "\n",
    "> Importante: nos métodos de classe passamos a referência à classe usando normalmente o `cls`\n",
    "\n",
    "&nbsp;\n",
    "\n",
    "Sintaxe para uso:\n",
    "\n",
    "```python\n",
    "instancia_do_objeto.nome_do_metodo_da_classe()\n",
    "```\n",
    "\n",
    "Exemplo de uso: Controle dos CPFs já cadastrados"
   ]
  },
  {
   "cell_type": "code",
   "execution_count": null,
   "metadata": {},
   "outputs": [],
   "source": []
  },
  {
   "cell_type": "code",
   "execution_count": null,
   "metadata": {},
   "outputs": [],
   "source": []
  },
  {
   "cell_type": "markdown",
   "metadata": {},
   "source": [
    "Outro caso de uso: Factory\n",
    "\n",
    "Nesse exemplo, sobrecarga de construtores."
   ]
  },
  {
   "cell_type": "code",
   "execution_count": null,
   "metadata": {},
   "outputs": [],
   "source": []
  },
  {
   "cell_type": "code",
   "execution_count": null,
   "metadata": {},
   "outputs": [],
   "source": []
  },
  {
   "cell_type": "markdown",
   "metadata": {},
   "source": [
    "# Métodos estáticos\n",
    "\n",
    "- Método que não deveria afetar o estdo do objeto e nem da classe.\n",
    "- Poderia estar fora da classe, mas por conveniência (já que normalmente envolve \"assuntos\" da classe) fica dentro dela.\n",
    "\n",
    "Declarado da seguinte forma: \n",
    "\n",
    "```python\n",
    "@staticmethod\n",
    "def metodo_estatico(parametros):\n",
    "```\n",
    "\n",
    "> Importante: nos métodos estáticos, não passamos a referência ao objeto `self` e nem a referência da classe `cls`\n",
    "\n",
    "\n",
    "&nbsp;\n",
    "\n",
    "Sintaxe para uso:\n",
    "\n",
    "```python\n",
    "nome_da_classe.nome_do_metodo(parametros)\n",
    "```\n",
    "\n",
    "Exemplo de uso: Validação de CPF"
   ]
  },
  {
   "cell_type": "code",
   "execution_count": null,
   "metadata": {},
   "outputs": [],
   "source": []
  },
  {
   "cell_type": "code",
   "execution_count": null,
   "metadata": {},
   "outputs": [],
   "source": []
  }
 ],
 "metadata": {
  "language_info": {
   "name": "python"
  },
  "orig_nbformat": 4
 },
 "nbformat": 4,
 "nbformat_minor": 2
}
