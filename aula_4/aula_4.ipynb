{
 "cells": [
  {
   "cell_type": "markdown",
   "metadata": {},
   "source": [
    "# Programação Orientada a Objetos - Aula 4"
   ]
  },
  {
   "cell_type": "markdown",
   "metadata": {},
   "source": [
    "## Revisão da aula 3"
   ]
  },
  {
   "cell_type": "markdown",
   "metadata": {},
   "source": [
    "Implementar um sistema de controle de conta corrente bancária.\n",
    "\n",
    "A conta bancária possui, no mínimo, os seguintes atributos:\n",
    "\n",
    "1) Agência (str)\n",
    "\n",
    "2) Conta (str)\n",
    "\n",
    "3) Saldo (float)\n",
    "\n",
    "4) Nome do titular (str)\n",
    "\n",
    "5) Data de nascimento do titular (date)\n",
    "\n",
    "6) CPF do titular (str)\n",
    "\n",
    "&nbsp;\n",
    "\n",
    "Todas as contas correntes iniciam sem saldo (R$ 0,00). Os atributos não devem ser acessados diretamente (observar a melhor forma de garantir o acesso quando necessário). O nome do titular pode ser alterado após o cadastro do titular.\n",
    "\n",
    "&nbsp;\n",
    "\n",
    "Nessa conta corrente deve ser possível realizar:\n",
    "\n",
    "1) Depósitos\n",
    "\n",
    "2) Pagamentos (basta informar o valor a ser pago e debitar da conta)\n",
    "\n",
    "3) Transferências (de uma conta para outra conta)\n",
    "\n",
    "4) Saques \n",
    "\n",
    "5) Extrato (visualizar as operações realizadas na conta, independente de dia, mês, etc)\n",
    "\n",
    "&nbsp;\n",
    "\n",
    "No extrato bancário deve constar:\n",
    "\n",
    "1) Número da agência\n",
    "\n",
    "2) Número da conta\n",
    "\n",
    "3) Nome do titular\n",
    "\n",
    "4) CPF do titular\n",
    "\n",
    "5) Saldo final\n",
    "\n",
    "6) Movimentações ('E' para entrada, 'S' para saída, e incluir o valor movimentado)\n",
    "\n",
    "Criar um menu no console para navegar entre as opções desejadas.\n"
   ]
  },
  {
   "cell_type": "code",
   "execution_count": null,
   "metadata": {},
   "outputs": [],
   "source": [
    "from datetime import date\n",
    "\n",
    "class Titular:\n",
    "    def __init__(self, nome: str, cpf: str, dt_nasc: date):\n",
    "        self._nome: str = nome\n",
    "        self._cpf: str = cpf\n",
    "        self._dt_nasc: date = dt_nasc\n",
    "\n",
    "    @property\n",
    "    def nome_titular(self) -> str:\n",
    "        return self._nome\n",
    "    \n",
    "    @nome_titular.setter\n",
    "    def nome_titular(self, nome: str) -> None:\n",
    "        self._nome = nome\n",
    "\n",
    "    @property\n",
    "    def cpf(self) -> str:\n",
    "        return self._cpf\n",
    "\n",
    "    @property\n",
    "    def data_nascimento(self) -> date:\n",
    "        return self._dt_nasc"
   ]
  },
  {
   "cell_type": "code",
   "execution_count": null,
   "metadata": {},
   "outputs": [],
   "source": [
    "dt_nasc = date(year=1991, month=8, day=6)\n",
    "t1 = Titular('Pedro', 'Engenheiro de dados', dt_nasc)\n",
    "print(t1.nome_titular)\n",
    "print(t1.cpf)\n",
    "print(t1.data_nascimento)\n",
    "\n",
    "print(t1._nome)\n",
    "print(t1._cpf)\n",
    "print(t1._dt_nasc)\n",
    "\n",
    "t1.nome_titular = 'Marcos'\n",
    "print(t1.nome_titular)\n",
    "print(t1._nome)"
   ]
  },
  {
   "cell_type": "code",
   "execution_count": null,
   "metadata": {},
   "outputs": [],
   "source": [
    "from typing import List, Dict\n",
    "# Eu utilizei no extrato um dicionário, mas poderia ser a classe Movimentacao abaixo\n",
    "# class Movimentacao:\n",
    "#     self._tipo: str # e pra entrada, s pra saída\n",
    "#     self._valor: float \n",
    "\n",
    "class ContaCorrente:\n",
    "    def __init__(self, titular: Titular, agencia: str, conta: str):\n",
    "        self._titular: Titular = titular\n",
    "        self._agencia: str = agencia\n",
    "        self._conta: str = conta\n",
    "        self._saldo: float = 0.0\n",
    "        self._extrato: List[Dict[str, str]] = []\n",
    "\n",
    "    @property\n",
    "    def titular(self) -> Titular:\n",
    "        return self._titular\n",
    "\n",
    "    @property\n",
    "    def agencia(self) -> str:\n",
    "        return self._agencia\n",
    "    \n",
    "    @property\n",
    "    def conta(self) -> str:\n",
    "        return self._conta\n",
    "    \n",
    "    @property\n",
    "    def saldo(self) -> float:\n",
    "        return self._saldo\n",
    "\n",
    "    def _adicionar_extrato(self, tipo: str, valor: float):\n",
    "        valor_formatado = '{:.2f}'.format(valor)\n",
    "        self._extrato.append({'key': tipo.upper(), 'value': valor_formatado})\n",
    "        # if tipo.upper() == 'E':\n",
    "        #     self._extrato.append({'key': 'E', 'value': valor_formatado})\n",
    "        # else:            \n",
    "        #     self._extrato.append({'key': tipo.upper(), 'value': valor_formatado})\n",
    "\n",
    "    def _msg_resposta(self, sucesso: bool, nome_operacao: str) -> None:\n",
    "        if sucesso:\n",
    "            print(f'Operação realizada com sucesso. Operação: {nome_operacao}')\n",
    "        else:\n",
    "            print(f'Falha ao realizar operação. Operação: {nome_operacao}')\n",
    "\n",
    "    def _saidas(self, valor: float, nome_operacao: str) -> bool:\n",
    "        if self._saldo >= valor:\n",
    "            self._saldo -= valor\n",
    "            self._adicionar_extrato(tipo='s', valor=valor)\n",
    "            self._msg_resposta(sucesso=True, nome_operacao=nome_operacao)\n",
    "            return True\n",
    "        else:\n",
    "            self._msg_resposta(sucesso=False, nome_operacao=nome_operacao)\n",
    "            return False\n",
    "\n",
    "    def deposito(self, valor: float) -> None:\n",
    "        # retornar somatório do saldo pra ver que foi depositado\n",
    "        # booleano pra saber se deu certo\n",
    "        # print da confirmação. sem retornar nada ou retornar o booleano, ou o saldo, etc\n",
    "        # log da data, do valor, do saldo, etc\n",
    "        nome_operacao = 'Deposito'\n",
    "        if valor > 0.0:\n",
    "            self._saldo += valor\n",
    "            self._adicionar_extrato(tipo='e', valor=valor)\n",
    "            self._msg_resposta(sucesso=True, nome_operacao=nome_operacao)\n",
    "        else:\n",
    "            self._msg_resposta(sucesso=False, nome_operacao=nome_operacao)\n",
    "\n",
    "    def pagamento(self, valor: float) -> None:\n",
    "        self._saidas(valor=valor, nome_operacao='Pagamento')\n",
    "\n",
    "    def saque(self, valor: float) -> None:\n",
    "        self._saidas(valor=valor, nome_operacao='Saque')\n",
    "\n",
    "    def transferencia(self, valor: float, conta_destino: ContaCorrente) -> None:\n",
    "        nome_operacao = 'Transferencia'\n",
    "        if self._saldo >= valor:\n",
    "            self._saldo -= valor\n",
    "            self._adicionar_extrato(tipo='s', valor=valor)\n",
    "            conta_destino.deposito(valor)\n",
    "            self._msg_resposta(sucesso=True, nome_operacao=nome_operacao)\n",
    "        else:\n",
    "            self._msg_resposta(sucesso=False, nome_operacao=nome_operacao)\n",
    "    \n",
    "    def transferencia_usando_saida(self, valor: float, conta_destino: ContaCorrente) -> None:\n",
    "        # para funcionar, tivemos que refatorar a saída e retornar se teve sucesso ou não\n",
    "        teve_sucesso = self._saidas(valor=valor, nome_operacao='Transferencia')\n",
    "        if teve_sucesso:\n",
    "            conta_destino.deposito(valor)\n",
    "\n",
    "    def extrato(self):\n",
    "        print(f'Agencia: {self._agencia}')\n",
    "        print(f'Conta: {self._conta}')\n",
    "        print(f'Titular: {self.titular.nome_titular}')\n",
    "        print(f'CPF do titular: {self._titular.cpf}')\n",
    "        print('Saldo: R$', '{:.2f}'.format(self._saldo), sep=' ')\n",
    "        for mov in self._extrato:\n",
    "            print(f'\\t{mov[\"key\"]}: R$ {mov[\"value\"]}')\n",
    "        "
   ]
  },
  {
   "cell_type": "code",
   "execution_count": null,
   "metadata": {},
   "outputs": [],
   "source": [
    "cc1 = ContaCorrente(t1, '001', 'c101')\n",
    "print(cc1.titular.nome_titular)\n",
    "print(cc1.agencia)\n",
    "print(cc1.conta)\n",
    "print(cc1.saldo)\n",
    "cc1.deposito(180.50) # nesse ponto eu estou informando que o depósito vai ser feito para a cc1\n",
    "print(cc1.saldo)\n",
    "\n",
    "dt_nasc = date(year=1995, month=4, day=18)\n",
    "t2 = Titular('Luana', 'Engenheira de dados', dt_nasc)\n",
    "print(t2.nome_titular)\n",
    "print(t2.cpf)\n",
    "print(t2.data_nascimento)\n",
    "\n",
    "cc2 = ContaCorrente(t2, '001', 'c102')\n",
    "print(cc2.titular.nome_titular)\n",
    "print(cc2.agencia)\n",
    "print(cc2.conta)\n",
    "print(cc2.saldo)\n",
    "\n",
    "cc1.transferencia_usando_saida(200, cc2)\n",
    "print(cc1.saldo)\n",
    "print(cc2.saldo)\n",
    "\n",
    "print()\n",
    "\n",
    "cc1.extrato()\n",
    "\n",
    "print()\n",
    "\n",
    "cc2.extrato()"
   ]
  },
  {
   "cell_type": "code",
   "execution_count": null,
   "metadata": {},
   "outputs": [],
   "source": [
    "cc1 = ContaCorrente(t1, '001', 'c101')\n",
    "cc1.deposito(180.50) # nesse ponto eu estou informando que o depósito vai ser feito para a cc1\n",
    "print(cc1.saldo)\n",
    "cc1.saque(100)\n",
    "print(cc1.saldo)\n",
    "cc1.pagamento(80.0)\n",
    "print(cc1.saldo)\n",
    "\n",
    "cc1.transferencia(0.5, cc2)\n",
    "\n",
    "print()\n",
    "\n",
    "cc1.extrato()\n",
    "\n",
    "print()\n",
    "\n",
    "cc2.extrato()"
   ]
  },
  {
   "cell_type": "markdown",
   "metadata": {},
   "source": [
    "-------------------"
   ]
  },
  {
   "cell_type": "markdown",
   "metadata": {},
   "source": [
    "# Módulos, pacotes e bibliotecas\n",
    "\n",
    "Por enquanto, podemos dizer que uma biblioteca nada mais é que **uma coleção de funcionalidades prontas**\n",
    "\n",
    "Por exemplo: datetime, random, etc."
   ]
  },
  {
   "cell_type": "markdown",
   "metadata": {},
   "source": [
    "## Importando bibliotecas\n",
    "\n",
    "Para importar uma biblioteca usamos a sintaxe : \n",
    "\n",
    "```python\n",
    "import nome_da_biblioteca\n",
    "```"
   ]
  },
  {
   "cell_type": "code",
   "execution_count": null,
   "metadata": {},
   "outputs": [],
   "source": [
    "import random\n",
    "\n",
    "random.randint(0,100)"
   ]
  },
  {
   "cell_type": "markdown",
   "metadata": {},
   "source": [
    "## Importando bibliotecas: alias\n",
    "\n",
    "Podemos dar um \"apelido\" para a biblioteca, que em python é chamado de \"alias\". \n",
    "\n",
    "Para isso, usamos a sintaxe : \n",
    "\n",
    "```python\n",
    "import nome_da_biblioteca as apelido_da_biblioteca\n",
    "```\n",
    "\n",
    "Assim, quando formos nos referir à biblioteca para utilizar uma de suas funções, usamos o seu apelido,"
   ]
  },
  {
   "cell_type": "code",
   "execution_count": null,
   "metadata": {},
   "outputs": [],
   "source": [
    "import random as rd # só randint\n",
    "import datetime # só date\n",
    "import pandas # uma função qualquer\n",
    "import seaborn # uma função qualquer\n",
    "\n",
    "rd.randint(0,100)"
   ]
  },
  {
   "cell_type": "markdown",
   "metadata": {},
   "source": [
    "### Problema:\n",
    "\n",
    "Tamanho do programa."
   ]
  },
  {
   "cell_type": "markdown",
   "metadata": {},
   "source": [
    "## Importando parcialmente as bibliotecas\n",
    "\n",
    "Para contornar isso, podemos importar uma única classe ou função.\n",
    "\n",
    "Para isso usamos a sintaxe:\n",
    "```python\n",
    "from nome_da_biblioteca import nome_da_funcao_ou_classe (as alias_da_funcao)\n",
    "```\n",
    "\n",
    "Obs: O alias é opcional."
   ]
  },
  {
   "cell_type": "code",
   "execution_count": null,
   "metadata": {},
   "outputs": [],
   "source": [
    "from random import randint as rdint, random as rd\n",
    "\n",
    "print(rdint(1,100))\n",
    "print(rd()) # gera um float entre 0 e 1\n",
    "\n",
    "# cuidado para não sobrescrever uma função já existente\n",
    "def random():\n",
    "    print('Olá')\n",
    "\n",
    "print(rdint(1,100))\n",
    "print(random()) # sobrescrevi a função random com um print\n",
    "print(rd()) # gera um float entre 0 e 1\n",
    "\n",
    "help(random)"
   ]
  },
  {
   "cell_type": "code",
   "execution_count": null,
   "metadata": {},
   "outputs": [],
   "source": [
    "import random\n",
    "\n",
    "help(random)"
   ]
  },
  {
   "cell_type": "markdown",
   "metadata": {},
   "source": [
    "## Módulos\n",
    "\n",
    "Qualquer script Python (arquivo com extensão .py) pode ser considerado um módulo.\n",
    "\n",
    "Motivação para usar módulos: modularização e organização."
   ]
  },
  {
   "cell_type": "markdown",
   "metadata": {},
   "source": [
    "##  Pacotes\n",
    "\n",
    "Conjunto de módulos\n",
    "\n",
    "<img src=https://files.realpython.com/media/pkg2.dab97c2f9c58.png width=200>\n",
    "\n",
    "&nbsp;\n",
    "\n",
    "Motivação para usar pacotes: Agrupar conjuntos de módulos com funcionamento semelhante e/ou complementar\n"
   ]
  },
  {
   "cell_type": "markdown",
   "metadata": {},
   "source": [
    "##  Bibliotecas\n",
    "\n",
    "No uso coloquial, muitas vezes chamamos módulos e pacotes de \"bibliotecas\". E, coloquialmente, este uso é bem aceitável.\n",
    "\n",
    "Mas, formalmente falando, usamos o termo **biblioteca** para nos referir a pacotes (ou até mesmo módulos individuais) que são publicados, como parte de um projeto particular, ou para determinado uso."
   ]
  },
  {
   "cell_type": "markdown",
   "metadata": {},
   "source": [
    "Em resumo,\n",
    "\n",
    "- Um **módulo** é um arquivo de extensão .py com código em Python nele (comumente definição de funções, classes, etc.);\n",
    "\n",
    "- Um **pacote** é uma coleção de módulos. Costuma ser uma pasta com os módulos e o arquivo especial \\_\\_init\\_\\_.py vazio;\n",
    "\n",
    "- Uma **biblioteca** é uma coleção de pacotes ou módulos.\n",
    "\n",
    "<img src=https://cdn.programiz.com/sites/tutorial2program/files/PackageModuleStructure.jpg width=500>"
   ]
  },
  {
   "cell_type": "markdown",
   "metadata": {},
   "source": [
    "## Criando a importando nossos próprios módulos/pacotes/bibliotecas"
   ]
  },
  {
   "cell_type": "markdown",
   "metadata": {},
   "source": [
    "Criando módulo\n",
    "\n",
    "Inicialmemte vamos criar a pasta `BibliotecaContas` fora das nosas estrutuas de pastas das aulas.\n",
    "\n",
    "Dentro dela, vamos adicionar o módulo `titular.py` com o conteúdo da nossa classe Titular."
   ]
  },
  {
   "cell_type": "code",
   "execution_count": null,
   "metadata": {},
   "outputs": [],
   "source": [
    "from datetime import date\n",
    "\n",
    "dt_nasc = date(year=1991, month=8, day=6)\n",
    "t1 = Titular('Pedro', 'Engenheiro de dados', dt_nasc)\n",
    "print(t1.nome_titular)\n",
    "print(t1.cpf)\n",
    "print(t1.data_nascimento)\n",
    "\n"
   ]
  },
  {
   "cell_type": "markdown",
   "metadata": {},
   "source": []
  },
  {
   "cell_type": "markdown",
   "metadata": {},
   "source": []
  },
  {
   "cell_type": "markdown",
   "metadata": {},
   "source": [
    "Criando pacote"
   ]
  },
  {
   "cell_type": "code",
   "execution_count": null,
   "metadata": {},
   "outputs": [],
   "source": [
    "from titular import Titular\n",
    "from Contas import contaCorrente as cc\n",
    "from datetime import date\n",
    "\n",
    "dt_nasc = date(year=1991, month=8, day=6)\n",
    "t1 = Titular('Pedro', 'Engenheiro de dados', dt_nasc)\n",
    "\n",
    "cc1 = cc.ContaCorrente(t1, '001', 'c101')\n",
    "cc1.deposito(180.50) # nesse ponto eu estou informando que o depósito vai ser feito para a cc1\n",
    "print(cc1.saldo)\n",
    "cc1.saque(100)\n",
    "print(cc1.saldo)\n",
    "cc1.pagamento(80.0)\n",
    "print(cc1.saldo)\n",
    "\n",
    "cc1.extrato()"
   ]
  }
 ],
 "metadata": {
  "kernelspec": {
   "display_name": "Python 3",
   "language": "python",
   "name": "python3"
  },
  "language_info": {
   "codemirror_mode": {
    "name": "ipython",
    "version": 3
   },
   "file_extension": ".py",
   "mimetype": "text/x-python",
   "name": "python",
   "nbconvert_exporter": "python",
   "pygments_lexer": "ipython3",
   "version": "3.11.1"
  },
  "orig_nbformat": 4
 },
 "nbformat": 4,
 "nbformat_minor": 2
}
