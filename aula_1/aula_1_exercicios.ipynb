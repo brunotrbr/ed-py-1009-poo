{
 "cells": [
  {
   "cell_type": "markdown",
   "metadata": {},
   "source": [
    "# ds-py-1006-poo1"
   ]
  },
  {
   "cell_type": "markdown",
   "metadata": {},
   "source": [
    "\n",
    "## Exercício 1\n",
    "Escreva a classe que represente a abstração de uma pessoa. \n",
    "\n",
    "A classe deverá ter os atributos:\n",
    "\n",
    "- altura (float)\n",
    "- peso (float)\n",
    "- sexo (string \"M\" ou \"F\")\n",
    "- imc\n",
    "\n",
    "Além do método construtor, a classe deverá possuir os seguintes métodos:\n",
    "\n",
    "- **calcular_imc(parâmetros) -> float**\n",
    "    - Esse método deverá calcular o IMC da pessoa de acordo com a fórmula ```IMC=Peso/Altura^2```\n",
    "    - Deve ser calculado no construtor, e atualizar a propriedade imc\n",
    "\n",
    "&nbsp;\n",
    "\n",
    "- **verificar_imd() -> None**\n",
    "    - Esse método deverá exibir na tela o IMC da pessoa (valor e classificação), de acordo com a tabela abaixo\n",
    "\n",
    "    &nbsp;\n",
    "    \n",
    "    | Classificação | Homem | Mulher |\n",
    "    | ------------- | ----- | ------ |\n",
    "    | Obesidade mórbida | 40 ou + | 39 ou + |\n",
    "    | Obesidade moderada | 30 a 39,9 | 29 a 38,9 |\n",
    "    | Obesidade leve | 25 a 25,9 | 24 a 28,9 |\n",
    "    | Normal | 20 a 24,9 | 19 a 23,9 |\n",
    "    | Abaixo do normal | - de 20 | - de 19 |"
   ]
  },
  {
   "cell_type": "markdown",
   "metadata": {},
   "source": [
    "## Exercício 2\n",
    "Escreva a classe que represente a abstração de um triângulo.\n",
    "\n",
    "Além dos atributos e método construtor, a classe deverá possuir também um método que retorne se o triângulo é\n",
    "\n",
    "- Equilátero: tem 3 lados iguais\n",
    "- Isósceles: tem 2 lados iguais\n",
    "- Escaleno: tem 3 lados diferentes\n",
    "\n",
    "O método deverá retornar uma string contendo o nome do triângulo (equilátero, isósceles ou escaleno)"
   ]
  }
 ],
 "metadata": {
  "kernelspec": {
   "display_name": "Python 3",
   "language": "python",
   "name": "python3"
  },
  "language_info": {
   "codemirror_mode": {
    "name": "ipython",
    "version": 3
   },
   "file_extension": ".py",
   "mimetype": "text/x-python",
   "name": "python",
   "nbconvert_exporter": "python",
   "pygments_lexer": "ipython3",
   "version": "3.11.0"
  },
  "orig_nbformat": 4
 },
 "nbformat": 4,
 "nbformat_minor": 2
}
