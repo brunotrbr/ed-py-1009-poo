{
 "cells": [
  {
   "cell_type": "markdown",
   "metadata": {},
   "source": [
    "# Programação Orientada a Objetos - Aula 5\n",
    "\n",
    "# Herança e Polimorfismo\n",
    "\n",
    "## Herança\n",
    "\n",
    "Herança: estender a funcionalidade de uma classe. \n",
    "\n",
    "Ex:\n",
    "Conta (pai)\n",
    "ContaCorrente, ContaPoupança (contas filhas)"
   ]
  },
  {
   "cell_type": "code",
   "execution_count": null,
   "metadata": {},
   "outputs": [],
   "source": []
  },
  {
   "cell_type": "markdown",
   "metadata": {},
   "source": [
    "Vamos criar uma classe chamada `Conta` com as informações principais das contas.\n",
    "\n",
    "Nesse caso, vamos considerar todos os `atributos`, `propriedades`, `métodos privados` e mais os métodos de `depósito`, `saque` e `extrato` como essenciais.\n",
    "\n",
    "Os métodos `pagamento` e `transferência` são válidos somente para `conta corrente`."
   ]
  },
  {
   "cell_type": "code",
   "execution_count": null,
   "metadata": {},
   "outputs": [],
   "source": []
  },
  {
   "cell_type": "markdown",
   "metadata": {},
   "source": [
    "Testando:"
   ]
  },
  {
   "cell_type": "code",
   "execution_count": null,
   "metadata": {},
   "outputs": [],
   "source": []
  },
  {
   "cell_type": "markdown",
   "metadata": {},
   "source": [
    "No exemplo acima:\n",
    "\n",
    "- `Conta` é a classe **base**, **pai** ou **super classe**\n",
    "\n",
    "- `ContaCorrente` e `ContaPoupanca` são classes **derivadas** ou **classses filhas** da classe `Conta`\n",
    "\n",
    "- `ContaCorrente` herda da classe `Conta`  ou `ContaCorrente` estende a classe `Conta`\n",
    "\n",
    "&nbsp;\n",
    "\n",
    "- Objetos da classe `ContaCorrente` possuem todas as funcionalidades da classe `Conta` mais algumas funcionalidades extras.\n",
    "\n",
    "\n",
    "Em outras palavras, uma `ContaCorrente` é uma `Conta`.\n",
    "\n",
    "- Sempre que uma função esperar receber como parâmetro um objeto do tipo `Conta`, podemos passar um objeto do tipo `ContaCorrente` ou `ContaPoupanca`, dado que ambas são `Conta`.\n",
    "\n",
    "> Na assinatura do método Transferência, esperamos uma `Conta` e não mais uma `ContaCorrente`\n",
    "\n",
    "&nbsp;\n",
    "\n",
    "\n",
    "### Como ver se um objeto é instancia de outro?\n",
    "\n",
    "- Função `isinstance()`"
   ]
  },
  {
   "cell_type": "code",
   "execution_count": null,
   "metadata": {},
   "outputs": [],
   "source": []
  },
  {
   "cell_type": "markdown",
   "metadata": {},
   "source": [
    "## Polimorfismo\n",
    "\n",
    "Capacidade que uma classe filha tem de ter métodos com o mesmo nome de sua classe pai, e o programa saber qual método deve ser invocado\n",
    "\n",
    "Ou seja, capacidade do objeto de assumir diferentes formas (polimorfismo)\n",
    "\n",
    "&nbsp;\n",
    "\n",
    "Considerando nosso exemplo acima, vamos supor que os bancos congelem os saques da `ContaPoupanca`, mas permita realizar o saque da `ContaCorrente`.\n",
    "\n",
    "Reescrevemos o método `saque` na `ContaPoupanca` para que nosso programa atenda esse requisito do banco central."
   ]
  },
  {
   "cell_type": "code",
   "execution_count": null,
   "metadata": {},
   "outputs": [],
   "source": []
  },
  {
   "cell_type": "markdown",
   "metadata": {},
   "source": [
    "Testando a alteração:"
   ]
  },
  {
   "cell_type": "code",
   "execution_count": null,
   "metadata": {},
   "outputs": [],
   "source": []
  },
  {
   "cell_type": "markdown",
   "metadata": {},
   "source": [
    "-----------------"
   ]
  },
  {
   "cell_type": "markdown",
   "metadata": {},
   "source": [
    "# Atividade prática:\n",
    "\n",
    "Iniciar modelagem do desafio final"
   ]
  }
 ],
 "metadata": {
  "language_info": {
   "name": "python"
  },
  "orig_nbformat": 4
 },
 "nbformat": 4,
 "nbformat_minor": 2
}
