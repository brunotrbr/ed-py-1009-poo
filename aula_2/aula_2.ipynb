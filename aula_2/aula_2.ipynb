{
 "cells": [
  {
   "cell_type": "markdown",
   "metadata": {},
   "source": [
    "# Programação Orientada a Objetos - Aula 2\n",
    "\n",
    "## Conteúdo\n",
    "\n",
    "Encapsulamento\n",
    "\n",
    "Modificadores de acesso\n",
    "\n",
    "Métodos get e set\n",
    "\n",
    "Criação de getters e setters através de decorators\n",
    "\n",
    "Criação de getters e setters através da função property\n"
   ]
  },
  {
   "cell_type": "markdown",
   "metadata": {},
   "source": [
    "-----------------------"
   ]
  },
  {
   "cell_type": "markdown",
   "metadata": {},
   "source": [
    "# Objetivo\n",
    "\n",
    "Criar métodos get e set, garantindo o encapsulamento"
   ]
  },
  {
   "cell_type": "markdown",
   "metadata": {},
   "source": [
    "# Encapsulamento\n",
    "\n",
    "- Tornar o código privado, removendo o acesso a ele\n",
    "- Fazer com que o objeto controle apenas o seu próprio estado\n",
    "\n",
    ">Escrever classe para um funcionário de uma empresa. Ela deve armazenar o nome do funcionário, o cargo, o valor que ele recebe por hora trabalhada, quantas horas o funcionário trabalhou e o salário.\n",
    ">\n",
    ">As horas trabalhadas e o salário devem iniciar com valor 0.\n",
    ">\n",
    ">Essa classe precisa ter um método para registrar horas trabalhadas e um para calcular o salário (horas trabalhadas x valor da hora)"
   ]
  },
  {
   "cell_type": "code",
   "execution_count": null,
   "metadata": {},
   "outputs": [],
   "source": [
    "class Funcionario:\n",
    "    def __init__(self, nome_func: str, cargo_func: str, valor_hora_func: float):\n",
    "        self.nome: str = nome_func\n",
    "        self.cargo: str = cargo_func\n",
    "        self.valor_hora: float = valor_hora_func\n",
    "        self.salario: float = 0.0\n",
    "        self.horas_trabalhadas: int = 0\n",
    "\n",
    "    def registrar_horas_trabalhadas(self):\n",
    "        self.horas_trabalhadas += 1\n",
    "\n",
    "    def calcular_salario(self):\n",
    "        self.salario = self.horas_trabalhadas * self.valor_hora"
   ]
  },
  {
   "cell_type": "markdown",
   "metadata": {},
   "source": [
    "Testando:"
   ]
  },
  {
   "cell_type": "code",
   "execution_count": null,
   "metadata": {},
   "outputs": [],
   "source": [
    "func = Funcionario('Pedro', 'Engenheiro de Dados', 100)\n",
    "print(func.valor_hora)\n",
    "print(func.nome)\n",
    "print(func.cargo)\n",
    "\n",
    "func.registrar_horas_trabalhadas()\n",
    "func.registrar_horas_trabalhadas()\n",
    "func.calcular_salario()\n",
    "\n",
    "print(func.salario)\n",
    "print(func.horas_trabalhadas)\n"
   ]
  },
  {
   "cell_type": "markdown",
   "metadata": {},
   "source": [
    "Problema!!\n",
    "\n",
    "Exposição de atributos"
   ]
  },
  {
   "cell_type": "code",
   "execution_count": null,
   "metadata": {},
   "outputs": [],
   "source": [
    "func = Funcionario('Pedro', 'Engenheiro de Dados', 100)\n",
    "print(func.valor_hora)\n",
    "print(func.nome)\n",
    "print(func.cargo)\n",
    "\n",
    "func.registrar_horas_trabalhadas()\n",
    "func.registrar_horas_trabalhadas()\n",
    "func.calcular_salario()\n",
    "func.salario = 1000000\n",
    "\n",
    "print(func.salario)\n",
    "print(func.horas_trabalhadas)\n"
   ]
  },
  {
   "cell_type": "markdown",
   "metadata": {},
   "source": [
    "Solução:\n",
    "\n",
    "Transformar em atributo privado, utilizando os modificadores de acesso."
   ]
  },
  {
   "cell_type": "markdown",
   "metadata": {},
   "source": [
    "## Modificadores de acesso\n",
    "\n",
    "- Utilizados para restringir o acesso à atributos da classe\n",
    "\n",
    "&nbsp;\n",
    "\n",
    "- **private (privado)**: apenas objetos da própria classe possuem acesso ao atributo.\n",
    "\n",
    "- **protected (protegido)**: apenas objetos da própria classe ou de classes herdeiras possuem acesso ao atributo.\n",
    "\n",
    "- **public (público)**: os atributos podem ser acessados livremente em qualquer ponto do código.\n",
    "\n",
    "Em python não utilizamos as palavras reservadas **private**, **protected** ou **public**. Utilizamos nenhum, um (`_`) ou dois underscores (`__`) antes do nome do atributo.\n",
    "\n",
    "&nbsp;\n",
    "\n",
    "Os atributos públicos não utilizam underscore no nome. São criados conforme a sintaxe:\n",
    "\n",
    "`self.atributo_publico`\n",
    "\n",
    "&nbsp;\n",
    "\n",
    "Os atributos protegidos utilizam um underscore (`_`) no nome. São criados conforme a sintaxe:\n",
    "\n",
    "`self._atributo_protegido`\n",
    "\n",
    "&nbsp;\n",
    "\n",
    "Os atributos privados utilizam dois underscores (`__`) no nome. São criados conforme a sintaxe:\n",
    "\n",
    "`self.__atributo_privado`\n",
    "\n",
    "&nbsp;\n",
    "\n",
    "Agora não conseguimos mais acessar diretamente os atributos."
   ]
  },
  {
   "cell_type": "code",
   "execution_count": 19,
   "metadata": {},
   "outputs": [],
   "source": [
    "class Funcionario:\n",
    "    def __init__(self, nome_func: str, cargo_func: str, valor_hora_func: float):\n",
    "        self.nome: str = nome_func\n",
    "        self.cargo: str = cargo_func\n",
    "        self.valor_hora: float = valor_hora_func\n",
    "        self.__salario: float = 0.0  # private\n",
    "        self._horas_trabalhadas: int = 0  # protected\n",
    "\n",
    "    def registrar_horas_trabalhadas(self):\n",
    "        self._horas_trabalhadas += 1\n",
    "\n",
    "    def calcular_salario(self):\n",
    "        self.escopo = 1\n",
    "        self.__salario = self._horas_trabalhadas * self.valor_hora"
   ]
  },
  {
   "cell_type": "markdown",
   "metadata": {},
   "source": [
    "Testando:"
   ]
  },
  {
   "cell_type": "code",
   "execution_count": 14,
   "metadata": {},
   "outputs": [
    {
     "name": "stdout",
     "output_type": "stream",
     "text": [
      "100\n",
      "Pedro\n",
      "Engenheiro de Dados\n",
      "1\n",
      "1000000\n",
      "\n",
      "\n"
     ]
    }
   ],
   "source": [
    "func = Funcionario('Pedro', 'Engenheiro de Dados', 100)\n",
    "print(func.valor_hora)\n",
    "print(func.nome)\n",
    "print(func.cargo)\n",
    "\n",
    "func.registrar_horas_trabalhadas()\n",
    "func.calcular_salario()\n",
    "print(func._horas_trabalhadas)\n",
    "#print(func.__salario)\n",
    "func.__salario = 1000000  # Está criando uma variável nova na instancia do funcionário pedro chamada __salario\n",
    "print(func.__salario)\n",
    "print()\n",
    "print()\n"
   ]
  },
  {
   "cell_type": "code",
   "execution_count": 17,
   "metadata": {},
   "outputs": [
    {
     "name": "stdout",
     "output_type": "stream",
     "text": [
      "100\n",
      "Pedro\n",
      "Engenheiro de Dados\n",
      "1000000\n"
     ]
    }
   ],
   "source": [
    "# Teste para ver criação de atributos dentro de outras classes\n",
    "class Empresa():\n",
    "    def __init__(self, func: Funcionario):\n",
    "        self.nome = 'abc'\n",
    "        self.funcionario = func\n",
    "\n",
    "func = Funcionario('Pedro', 'Engenheiro de Dados', 100)\n",
    "print(func.valor_hora)\n",
    "print(func.nome)\n",
    "print(func.cargo)\n",
    "\n",
    "func.registrar_horas_trabalhadas()\n",
    "func.calcular_salario()\n",
    "func.__salario = 1000000  # Está criando uma variável nova na instancia do funcionário pedro chamada __salario\n",
    "print(func.__salario)\n",
    "\n",
    "emp = Empresa(func)\n",
    "func.atributo = 'atr'\n",
    "emp.funcionario.novo_atributo = 'teste'\n",
    "a = 2"
   ]
  },
  {
   "cell_type": "markdown",
   "metadata": {},
   "source": [
    "Problema:\n",
    "\n",
    "Herança de atributos privados não funciona."
   ]
  },
  {
   "cell_type": "code",
   "execution_count": 22,
   "metadata": {},
   "outputs": [
    {
     "ename": "AttributeError",
     "evalue": "type object 'Funcionario' has no attribute '_Auxiliar__salario'",
     "output_type": "error",
     "traceback": [
      "\u001b[0;31m---------------------------------------------------------------------------\u001b[0m",
      "\u001b[0;31mAttributeError\u001b[0m                            Traceback (most recent call last)",
      "Cell \u001b[0;32mIn[22], line 7\u001b[0m\n\u001b[1;32m      4\u001b[0m         \u001b[39mself\u001b[39m\u001b[39m.\u001b[39matributo_do_filho \u001b[39m=\u001b[39m \u001b[39m'\u001b[39m\u001b[39matr\u001b[39m\u001b[39m'\u001b[39m\n\u001b[1;32m      5\u001b[0m         \u001b[39mprint\u001b[39m(Funcionario\u001b[39m.\u001b[39m__salario)\n\u001b[0;32m----> 7\u001b[0m aux \u001b[39m=\u001b[39m Auxiliar(\u001b[39m'\u001b[39;49m\u001b[39mPedro\u001b[39;49m\u001b[39m'\u001b[39;49m, \u001b[39m'\u001b[39;49m\u001b[39mEngenheiro de dados\u001b[39;49m\u001b[39m'\u001b[39;49m, \u001b[39m100\u001b[39;49m)\n\u001b[1;32m      8\u001b[0m \u001b[39mprint\u001b[39m(aux\u001b[39m.\u001b[39mvalor_hora)\n",
      "Cell \u001b[0;32mIn[22], line 5\u001b[0m, in \u001b[0;36mAuxiliar.__init__\u001b[0;34m(self, nome_func, cargo_func, valor_hora_func)\u001b[0m\n\u001b[1;32m      3\u001b[0m Funcionario\u001b[39m.\u001b[39m\u001b[39m__init__\u001b[39m(\u001b[39mself\u001b[39m, nome_func\u001b[39m=\u001b[39mnome_func, cargo_func\u001b[39m=\u001b[39mcargo_func, valor_hora_func\u001b[39m=\u001b[39mvalor_hora_func)\n\u001b[1;32m      4\u001b[0m \u001b[39mself\u001b[39m\u001b[39m.\u001b[39matributo_do_filho \u001b[39m=\u001b[39m \u001b[39m'\u001b[39m\u001b[39matr\u001b[39m\u001b[39m'\u001b[39m\n\u001b[0;32m----> 5\u001b[0m \u001b[39mprint\u001b[39m(Funcionario\u001b[39m.\u001b[39;49m__salario)\n",
      "\u001b[0;31mAttributeError\u001b[0m: type object 'Funcionario' has no attribute '_Auxiliar__salario'"
     ]
    }
   ],
   "source": [
    "class Auxiliar(Funcionario):\n",
    "    def __init__(self, nome_func: str, cargo_func: str, valor_hora_func: float):\n",
    "        Funcionario.__init__(self, nome_func=nome_func, cargo_func=cargo_func, valor_hora_func=valor_hora_func)\n",
    "        self.atributo_do_filho = 'atr'\n",
    "\n",
    "aux = Auxiliar('Pedro', 'Engenheiro de dados', 100)\n",
    "print(aux.valor_hora)\n"
   ]
  },
  {
   "cell_type": "markdown",
   "metadata": {},
   "source": [
    "Solução:\n",
    "\n",
    "Por convenção, tratar atributos `protegidos` como `privados`"
   ]
  },
  {
   "cell_type": "code",
   "execution_count": 24,
   "metadata": {},
   "outputs": [],
   "source": [
    "class Funcionario:\n",
    "    def __init__(self, nome_func: str, cargo_func: str, valor_hora_func: float):\n",
    "        self.nome: str = nome_func\n",
    "        self.cargo: str = cargo_func\n",
    "        self.valor_hora: float = valor_hora_func\n",
    "        self._salario: float = 0.0  # vamos tratar como private\n",
    "        self._horas_trabalhadas: int = 0  # vamos tratar como private\n",
    "\n",
    "    def registrar_horas_trabalhadas(self):\n",
    "        self._horas_trabalhadas += 1\n",
    "\n",
    "    def calcular_salario(self):\n",
    "        self.escopo = 1\n",
    "        self._salario = self._horas_trabalhadas * self.valor_hora"
   ]
  },
  {
   "cell_type": "markdown",
   "metadata": {},
   "source": [
    "Testando:"
   ]
  },
  {
   "cell_type": "code",
   "execution_count": 28,
   "metadata": {},
   "outputs": [
    {
     "name": "stdout",
     "output_type": "stream",
     "text": [
      "100\n",
      "Pedro\n",
      "Engenheiro de Dados\n",
      "100\n",
      "Gerente de dados\n",
      "500\n"
     ]
    }
   ],
   "source": [
    "func = Funcionario('Pedro', 'Engenheiro de Dados', 100)\n",
    "print(func.valor_hora)\n",
    "print(func.nome)\n",
    "print(func.cargo)\n",
    "\n",
    "func.registrar_horas_trabalhadas()\n",
    "func.calcular_salario()\n",
    "print(func._salario) # Não fazer\n",
    "# func._salario = 1000000  # Não fazer\n",
    "\n",
    "# posso fazer sem peso na consciência\n",
    "func.cargo = 'Gerente de dados'\n",
    "print(func.cargo)\n",
    "\n",
    "# posso fazer, mas não deveria, pois o programador me \"indicou\" que o salário deveria ser privado\n",
    "func._salario = 500\n",
    "print(func._salario)"
   ]
  },
  {
   "cell_type": "markdown",
   "metadata": {},
   "source": [
    "## Métodos get e set\n",
    "\n",
    "No python, utilizamos o decorator `@property` ou a função `property` para os métodos `get` e `set` da classe\n"
   ]
  },
  {
   "cell_type": "markdown",
   "metadata": {},
   "source": [
    "### decorator @property\n",
    "\n",
    "- Reutilizar o nome da propriedade, sem criar novos nomes para get e set"
   ]
  },
  {
   "cell_type": "code",
   "execution_count": 40,
   "metadata": {},
   "outputs": [],
   "source": [
    "class Funcionario:\n",
    "    def __init__(self, nome_func: str, cargo_func: str, valor_hora_func: float):\n",
    "        self.nome: str = nome_func\n",
    "        self.cargo: str = cargo_func\n",
    "        self.valor_hora: float = valor_hora_func\n",
    "        self._salario: float = 0.0  # vamos tratar como private\n",
    "        self._horas_trabalhadas: int = 0  # vamos tratar como private\n",
    "\n",
    "    def registrar_horas_trabalhadas(self):\n",
    "        self._horas_trabalhadas += 1\n",
    "\n",
    "    def calcular_salario(self):\n",
    "        self._salario = self._horas_trabalhadas * self.valor_hora\n",
    "\n",
    "    # get horas trabalhadas\n",
    "    @property\n",
    "    def horas_trabalhadas(self):\n",
    "        return self._horas_trabalhadas\n",
    "\n",
    "    # set horas trabalhadas\n",
    "    @horas_trabalhadas.setter\n",
    "    def horas_trabalhadas(self, qtde_horas):\n",
    "        self._horas_trabalhadas = qtde_horas\n",
    "\n",
    "    # get salario\n",
    "    @property\n",
    "    def salario(self):\n",
    "        return self._salario"
   ]
  },
  {
   "cell_type": "markdown",
   "metadata": {},
   "source": [
    "Referente ao get:\n",
    "\n",
    "- Declaramos o uso de `@property` para indicar que vamos definir uma propriedade. Isso aumenta a legibilidade do código, pois conseguimos ver com clareza a finalidade desse método.\n",
    "\n",
    "- Definimos o método usando `def horas_trabalhadas(self)`, ou seja, com o mesmo nome que a propriedade deveria ter. Vamos usar esse nome para acessar e modificar o atributo fora da classe.\n",
    "\n",
    "- Por fim, retornamos a quantidade de horas trabalhadas `return self._horas_trabalhadas`\n",
    "\n",
    "&nbsp;\n",
    "\n",
    "Referente ao set:\n",
    "\n",
    "- Utilzamos a sintaxe `@horas_trabalhadas.setter` para indicar que é o set da propriedade horas_trabalhadas\n",
    "\n",
    "- Na definição do método esperamos, além do self, um novo valor para ser atribuído à quantidade de horas trabalhadas.\n",
    "\n",
    "- Por fim, atribuímos o valor ao atributo privado `self._horas_trabalhadas = qtde_horas`\n",
    "\n",
    "&nbsp;\n",
    "\n",
    "Agora podemos modificar e ler os atributos privados"
   ]
  },
  {
   "cell_type": "code",
   "execution_count": 41,
   "metadata": {},
   "outputs": [
    {
     "name": "stdout",
     "output_type": "stream",
     "text": [
      "2\n",
      "2\n",
      "50\n"
     ]
    }
   ],
   "source": [
    "func = Funcionario('Pedro', 'Engenheiro de dados', 100)\n",
    "func.registrar_horas_trabalhadas()\n",
    "func.registrar_horas_trabalhadas()\n",
    "print(func.horas_trabalhadas)  # propriedade para ver as horas trabalhadas\n",
    "print(func._horas_trabalhadas)  # mas não devemos fazer isso\n",
    "\n",
    "func.horas_trabalhadas = 50\n",
    "print(func.horas_trabalhadas)"
   ]
  },
  {
   "cell_type": "markdown",
   "metadata": {},
   "source": [
    "Podemos também validar os dados antes de inserir:"
   ]
  },
  {
   "cell_type": "code",
   "execution_count": 42,
   "metadata": {},
   "outputs": [],
   "source": [
    "class Funcionario:\n",
    "    def __init__(self, nome_func: str, cargo_func: str, valor_hora_func: float):\n",
    "        self.nome: str = nome_func\n",
    "        self.cargo: str = cargo_func\n",
    "        self.valor_hora: float = valor_hora_func\n",
    "        self._salario: float = 0.0  # vamos tratar como private\n",
    "        self._horas_trabalhadas: int = 0  # vamos tratar como private\n",
    "\n",
    "    def registrar_horas_trabalhadas(self):\n",
    "        self._horas_trabalhadas += 1\n",
    "\n",
    "    def calcular_salario(self):\n",
    "        self._salario = self._horas_trabalhadas * self.valor_hora\n",
    "\n",
    "    # get horas trabalhadas\n",
    "    @property\n",
    "    def horas_trabalhadas(self):\n",
    "        return self._horas_trabalhadas\n",
    "\n",
    "    # set horas trabalhadas\n",
    "    @horas_trabalhadas.setter\n",
    "    def horas_trabalhadas(self, qtde_horas):\n",
    "        if qtde_horas < 0:\n",
    "            print('Quantidade de horas inválida')\n",
    "        else:\n",
    "            self._horas_trabalhadas = qtde_horas\n",
    "\n",
    "    # get salario\n",
    "    @property\n",
    "    def salario(self):\n",
    "        return self._salario"
   ]
  },
  {
   "cell_type": "markdown",
   "metadata": {},
   "source": [
    "Testando:"
   ]
  },
  {
   "cell_type": "code",
   "execution_count": 43,
   "metadata": {},
   "outputs": [
    {
     "name": "stdout",
     "output_type": "stream",
     "text": [
      "2\n",
      "2\n",
      "Quantidade de horas inválida\n",
      "2\n"
     ]
    }
   ],
   "source": [
    "func = Funcionario('Pedro', 'Engenheiro de dados', 100)\n",
    "func.registrar_horas_trabalhadas()\n",
    "func.registrar_horas_trabalhadas()\n",
    "print(func.horas_trabalhadas)  # propriedade para ver as horas trabalhadas\n",
    "print(func._horas_trabalhadas)  # mas não devemos fazer isso\n",
    "\n",
    "func.horas_trabalhadas = -1\n",
    "print(func.horas_trabalhadas)"
   ]
  },
  {
   "cell_type": "markdown",
   "metadata": {},
   "source": [
    "Plus: \n",
    "\n",
    "Deletar atributos"
   ]
  },
  {
   "cell_type": "code",
   "execution_count": 1,
   "metadata": {},
   "outputs": [],
   "source": [
    "class Funcionario:\n",
    "    def __init__(self, nome_func: str, cargo_func: str, valor_hora_func: float):\n",
    "        self.nome: str = nome_func\n",
    "        self.cargo: str = cargo_func\n",
    "        self.valor_hora: float = valor_hora_func\n",
    "        self._salario: float = 0.0  # vamos tratar como private\n",
    "        self._horas_trabalhadas: int = 0  # vamos tratar como private\n",
    "\n",
    "    def registrar_horas_trabalhadas(self):\n",
    "        self._horas_trabalhadas += 1\n",
    "\n",
    "    def calcular_salario(self):\n",
    "        self._salario = self._horas_trabalhadas * self.valor_hora\n",
    "\n",
    "    # get horas trabalhadas\n",
    "    @property\n",
    "    def horas_trabalhadas(self):\n",
    "        return self._horas_trabalhadas\n",
    "\n",
    "    # set horas trabalhadas\n",
    "    @horas_trabalhadas.setter\n",
    "    def horas_trabalhadas(self, qtde_horas):\n",
    "        if qtde_horas < 0:\n",
    "            print('Quantidade de horas inválida')\n",
    "        else:\n",
    "            self._horas_trabalhadas = qtde_horas\n",
    "\n",
    "    # delete horas trabalhadas\n",
    "    @horas_trabalhadas.deleter\n",
    "    def horas_trabalhadas(self):\n",
    "        del self._horas_trabalhadas\n",
    "        \n",
    "    # get salario\n",
    "    @property\n",
    "    def salario(self):\n",
    "        return self._salario"
   ]
  },
  {
   "cell_type": "markdown",
   "metadata": {},
   "source": [
    "Testando:"
   ]
  },
  {
   "cell_type": "code",
   "execution_count": 3,
   "metadata": {},
   "outputs": [
    {
     "name": "stdout",
     "output_type": "stream",
     "text": [
      "2\n",
      "5\n"
     ]
    }
   ],
   "source": [
    "func = Funcionario('Pedro', 'Engenheiro de dados', 100)\n",
    "func.registrar_horas_trabalhadas()\n",
    "func.registrar_horas_trabalhadas()\n",
    "print(func.horas_trabalhadas)\n",
    "del func.horas_trabalhadas # deleta/remove o atributo self._horas_trabalhadas\n",
    "\n",
    "func.horas_trabalhadas = 5 # seta novamente o atributo self._horas_trabalhadas\n",
    "\n",
    "print(func.horas_trabalhadas)"
   ]
  },
  {
   "cell_type": "markdown",
   "metadata": {},
   "source": [
    "### função property\n",
    "\n",
    "Para não adicionar `@property`, utilizamos a função `property`\n",
    "\n",
    "Etapas:\n",
    "\n",
    "1) [Obrigatório] Criar os métodos get e set sem os decorators\n",
    "\n",
    "2) [Opcional] Tornar esse métodos privados, para não confundir outros programadores\n",
    "\n",
    "3) [Obrigatório] Criar um atalho para a propriedade, usando a função **property**"
   ]
  },
  {
   "cell_type": "code",
   "execution_count": 4,
   "metadata": {},
   "outputs": [],
   "source": [
    "class Funcionario:\n",
    "    def __init__(self, nome_func: str, cargo_func: str, valor_hora_func: float):\n",
    "        self.nome: str = nome_func\n",
    "        self.cargo: str = cargo_func\n",
    "        self.valor_hora: float = valor_hora_func\n",
    "        self._salario: float = 0.0  # vamos tratar como private\n",
    "        self._horas_trabalhadas: int = 0  # vamos tratar como private\n",
    "\n",
    "    def registrar_horas_trabalhadas(self):\n",
    "        self._horas_trabalhadas += 1\n",
    "\n",
    "    def calcular_salario(self):\n",
    "        self._salario = self._horas_trabalhadas * self.valor_hora\n",
    "\n",
    "\n",
    "    def _get_horas_trabalhadas(self): # por convenção, privado\n",
    "        return self._horas_trabalhadas\n",
    "    \n",
    "    def __set_horas_trabalhadas(self, novo_valor): # privado de fato\n",
    "        self._horas_trabalhadas = novo_valor\n",
    "\n",
    "    horas_trabalhadas = property(fget=_get_horas_trabalhadas, fset=__set_horas_trabalhadas)\n",
    "    \n",
    "        \n",
    "    # get salario\n",
    "    @property\n",
    "    def salario(self):\n",
    "        return self._salario"
   ]
  },
  {
   "cell_type": "markdown",
   "metadata": {},
   "source": [
    "Testando:"
   ]
  },
  {
   "cell_type": "code",
   "execution_count": 5,
   "metadata": {},
   "outputs": [
    {
     "name": "stdout",
     "output_type": "stream",
     "text": [
      "2\n",
      "5\n"
     ]
    }
   ],
   "source": [
    "func = Funcionario('Pedro', 'Engenheiro de dados', 100)\n",
    "func.registrar_horas_trabalhadas()\n",
    "func.registrar_horas_trabalhadas()\n",
    "print(func.horas_trabalhadas)\n",
    "# 2\n",
    "func.horas_trabalhadas = 5\n",
    "# 5\n",
    "print(func.horas_trabalhadas)"
   ]
  },
  {
   "cell_type": "markdown",
   "metadata": {},
   "source": [
    "## Praticando um pouco\n",
    "\n",
    "Escreva as classes, métodos (inclusive construtor) e atributos. Declare os atributos como privados, e exponha o acesso através de propriedades.\n",
    "\n",
    "### Exercício 1\n",
    "Um portão de garagem"
   ]
  },
  {
   "cell_type": "code",
   "execution_count": null,
   "metadata": {},
   "outputs": [],
   "source": []
  },
  {
   "cell_type": "markdown",
   "metadata": {},
   "source": [
    "### Exercício 2\n",
    "Uma lâmpada com dimmer"
   ]
  },
  {
   "cell_type": "code",
   "execution_count": null,
   "metadata": {},
   "outputs": [],
   "source": []
  },
  {
   "cell_type": "markdown",
   "metadata": {},
   "source": [
    "### Exercício 3\n",
    "Um carro"
   ]
  },
  {
   "cell_type": "code",
   "execution_count": null,
   "metadata": {},
   "outputs": [],
   "source": []
  },
  {
   "cell_type": "markdown",
   "metadata": {},
   "source": [
    "### Exercício 4\n",
    "Uma fração"
   ]
  },
  {
   "cell_type": "code",
   "execution_count": null,
   "metadata": {},
   "outputs": [],
   "source": []
  },
  {
   "cell_type": "markdown",
   "metadata": {},
   "source": [
    "\n",
    "### Exercício 5\n",
    "Um quadrado (incluir cálculo de área e perímetro)"
   ]
  },
  {
   "cell_type": "code",
   "execution_count": null,
   "metadata": {},
   "outputs": [],
   "source": []
  }
 ],
 "metadata": {
  "kernelspec": {
   "display_name": "Python 3",
   "language": "python",
   "name": "python3"
  },
  "language_info": {
   "codemirror_mode": {
    "name": "ipython",
    "version": 3
   },
   "file_extension": ".py",
   "mimetype": "text/x-python",
   "name": "python",
   "nbconvert_exporter": "python",
   "pygments_lexer": "ipython3",
   "version": "3.11.0"
  },
  "orig_nbformat": 4
 },
 "nbformat": 4,
 "nbformat_minor": 2
}
