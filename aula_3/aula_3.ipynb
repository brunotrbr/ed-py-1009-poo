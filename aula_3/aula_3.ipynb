{
 "cells": [
  {
   "cell_type": "markdown",
   "metadata": {},
   "source": [
    "# Programação Orientada a Objetos - Aula 3"
   ]
  },
  {
   "cell_type": "markdown",
   "metadata": {},
   "source": [
    "Implementar um sistema de controle de conta corrente bancária.\n",
    "\n",
    "A conta bancária possui, no mínimo, os seguintes atributos:\n",
    "\n",
    "1) Agência (str)\n",
    "\n",
    "2) Conta (str)\n",
    "\n",
    "3) Saldo (float)\n",
    "\n",
    "4) Nome do titular (str)\n",
    "\n",
    "5) Data de nascimento do titular (date)\n",
    "\n",
    "6) CPF do titular (str)\n",
    "\n",
    "&nbsp;\n",
    "\n",
    "Todas as contas correntes iniciam sem saldo (R$ 0,00). Os atributos não devem ser acessados diretamente (observar a melhor forma de garantir o acesso quando necessário). O nome do titular pode ser alterado após o cadastro do titular.\n",
    "\n",
    "&nbsp;\n",
    "\n",
    "Nessa conta corrente deve ser possível realizar:\n",
    "\n",
    "1) Depósitos\n",
    "\n",
    "2) Pagamentos (basta informar o valor a ser pago e debitar da conta)\n",
    "\n",
    "3) Transferências (de uma conta para outra conta)\n",
    "\n",
    "4) Saques \n",
    "\n",
    "5) Extrato (visualizar as operações realizadas na conta, independente de dia, mês, etc)\n",
    "\n",
    "&nbsp;\n",
    "\n",
    "No extrato bancário deve constar:\n",
    "\n",
    "1) Número da agência\n",
    "\n",
    "2) Número da conta\n",
    "\n",
    "3) Nome do titular\n",
    "\n",
    "4) CPF do titular\n",
    "\n",
    "5) Saldo final\n",
    "\n",
    "6) Movimentações ('E' para entrada, 'S' para saída, e incluir o valor movimentado)\n",
    "\n",
    "Criar um menu no console para navegar entre as opções desejadas.\n"
   ]
  }
 ],
 "metadata": {
  "language_info": {
   "name": "python"
  },
  "orig_nbformat": 4
 },
 "nbformat": 4,
 "nbformat_minor": 2
}
