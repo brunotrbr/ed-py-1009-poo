{
 "cells": [
  {
   "cell_type": "markdown",
   "metadata": {},
   "source": [
    "# Programação Orientada a Objetos - Aula 7\n",
    "\n",
    "# Métodos mágicos\n",
    "\n",
    "- Métodos **pré-definidos** existentes em todos os objetos, com **invocação automática**\n",
    "\n",
    "- Normalmente não são executados pelo usuário, mas podem ser ser caso haja necessidade\n",
    "\n",
    "- Podem ser sobrescritos para alterar o comportamento de uma classe\n",
    "\n",
    "- Padrão de nome: _dunder_ (double underscore): \n",
    "\n",
    "```python\n",
    "__name__(parametros)\n",
    "```\n",
    "\n",
    "Para ver seu funcionamento, vamos usar a classe Drex abaixo:"
   ]
  },
  {
   "cell_type": "code",
   "execution_count": null,
   "metadata": {},
   "outputs": [],
   "source": []
  },
  {
   "cell_type": "markdown",
   "metadata": {},
   "source": [
    "## Métodos de construção\n",
    "\n",
    "### \\_\\_new\\_\\_\n",
    "\n",
    "- Usado internamente para criar novas instâncias **vazias** de uma classe, antes da execução do \\_\\_init\\_\\_"
   ]
  },
  {
   "cell_type": "code",
   "execution_count": null,
   "metadata": {},
   "outputs": [],
   "source": []
  },
  {
   "cell_type": "markdown",
   "metadata": {},
   "source": [
    "Lista não exaustiva dos métodos mágicos e sua função vistos até agora\n",
    "\n",
    "|    Método    |               Função              |\n",
    "| ------------ | --------------------------------- |\n",
    "| \\_\\_new\\_\\_  | Criar novas instâncias de objetos |\n",
    "| \\_\\_init\\_\\_ | Construtor de classe              |"
   ]
  },
  {
   "cell_type": "markdown",
   "metadata": {},
   "source": [
    "## Métodos de representação\n",
    "\n",
    "### \\_\\_str\\_\\_\n",
    "\n",
    "- Exibe a representação daquele objeto como string"
   ]
  },
  {
   "cell_type": "code",
   "execution_count": null,
   "metadata": {},
   "outputs": [],
   "source": []
  },
  {
   "cell_type": "code",
   "execution_count": null,
   "metadata": {},
   "outputs": [],
   "source": []
  },
  {
   "cell_type": "markdown",
   "metadata": {},
   "source": [
    "### Observação\n",
    "\n",
    "- Tecnicamente, \\_\\_str\\_\\_ está \"ensinando\" o python a como gerar uma string a partir de seu objeto. Podemos usar também outras coerções de tipos, como `__int__`, `__bool__` e `__float__`."
   ]
  },
  {
   "cell_type": "code",
   "execution_count": null,
   "metadata": {},
   "outputs": [],
   "source": []
  },
  {
   "cell_type": "code",
   "execution_count": null,
   "metadata": {},
   "outputs": [],
   "source": []
  },
  {
   "cell_type": "markdown",
   "metadata": {},
   "source": [
    "Lista não exaustiva dos métodos mágicos e sua função vistos até agora\n",
    "\n",
    "|     Método    |               Função              |\n",
    "| ------------- | --------------------------------- |\n",
    "| \\_\\_new\\_\\_   | Criar novas instâncias de objetos |\n",
    "| \\_\\_init\\_\\_  | Construtor de classe              |\n",
    "| \\_\\_str\\_\\_   | Coerção/representação como string |\n",
    "| \\_\\_int\\_\\_   | Coerção/representação como int    |\n",
    "| \\_\\_float\\_\\_ | Coerção/representação como float  |\n",
    "| \\_\\_bool\\_\\_  | Coerção/representação como bool   |"
   ]
  },
  {
   "cell_type": "markdown",
   "metadata": {},
   "source": [
    "## Métodos aritméticos\n",
    "\n",
    "- Define como o objeto deve agir caso receba uma operação com os sinais aritméticos: `+`, `-`, `*`, `/`, `%`, etc\n",
    "- Ex:\n",
    "- - Números: realiza a soma\n",
    "- - Strings: realiza a concatenação\n",
    "\n",
    "&nbsp;\n",
    "\n",
    "\n",
    "### \\_\\_add\\_\\_\n",
    "\n",
    "- Na operação `instancia_1 + instancia_2`, o python interpreta como `instancia1.__add__(instancia2)`"
   ]
  },
  {
   "cell_type": "code",
   "execution_count": null,
   "metadata": {},
   "outputs": [],
   "source": []
  },
  {
   "cell_type": "code",
   "execution_count": null,
   "metadata": {},
   "outputs": [],
   "source": []
  },
  {
   "cell_type": "markdown",
   "metadata": {},
   "source": [
    "Outras operações matemáticas que podem ser implementadas com métodos mágicos:\n",
    "\n",
    "> \\_\\_sub\\_\\_ : subtração (-)\n",
    ">\n",
    "> \\_\\_mul\\_\\_ : multiplicação (*)\n",
    ">\n",
    "> \\_\\_truediv\\_\\_ : divisão real (/)\n",
    ">\n",
    "> \\_\\_floordiv\\_\\_ : divisão inteira (//)\n",
    ">\n",
    "> \\_\\_mod\\_\\_ : resto da divisão (%)\n"
   ]
  },
  {
   "cell_type": "markdown",
   "metadata": {},
   "source": [
    "Lista não exaustiva dos métodos mágicos e sua função vistos até agora\n",
    "\n",
    "|      Método      |               Função              |\n",
    "| ---------------- | --------------------------------- |\n",
    "| \\_\\_new\\_\\_      | Criar novas instâncias de objetos |\n",
    "| \\_\\_init\\_\\_     | Construtor de classe              |\n",
    "| \\_\\_str\\_\\_      | Coerção/representação como string |\n",
    "| \\_\\_int\\_\\_      | Coerção/representação como int    |\n",
    "| \\_\\_float\\_\\_    | Coerção/representação como float  |\n",
    "| \\_\\_bool\\_\\_     | Coerção/representação como bool   |\n",
    "| \\_\\add\\_\\_       | adição (+)                        |\n",
    "| \\_\\_sub\\_\\_      | subtração (-)                     |\n",
    "| \\_\\_mul\\_\\_      | multiplicação (*)                 |\n",
    "| \\_\\_truediv\\_\\_  | divisão real (/)                  |\n",
    "| \\_\\_floordiv\\_\\_ | divisão inteira (//)              |\n",
    "| \\_\\_mod\\_\\_      | resto da divisão (%)              |"
   ]
  },
  {
   "cell_type": "markdown",
   "metadata": {},
   "source": [
    "## Métodos de comparação\n",
    "\n",
    "- Define como o objeto deve agir caso receba uma operação com os sinais de comparação: `>`, `!=`, `==`, `<`, etc\n",
    "\n",
    "&nbsp;\n",
    "\n",
    "\n",
    "### \\_\\_gt\\_\\_\n",
    "\n",
    "- Na operação `instancia_1 > instancia_2`, o python interpreta como `instancia1.__gt__(instancia2)`"
   ]
  },
  {
   "cell_type": "code",
   "execution_count": null,
   "metadata": {},
   "outputs": [],
   "source": []
  },
  {
   "cell_type": "code",
   "execution_count": null,
   "metadata": {},
   "outputs": [],
   "source": []
  },
  {
   "cell_type": "markdown",
   "metadata": {},
   "source": [
    "Outras operações de comparação que podem ser implementadas com métodos mágicos:\n",
    "\n",
    "> \\_\\_gt\\_\\_ : greater than/maior que (>)\n",
    ">\n",
    "> \\_\\_ge\\_\\_ : greater or equal/maior ou igual (>=)\n",
    ">\n",
    "> \\_\\_lt\\_\\_ : less than/menor que (<)\n",
    ">\n",
    "> \\_\\_le\\_\\_ : less or equal/menor ou igual (<=)\n",
    ">\n",
    "> \\_\\_eq\\_\\_ : equal/igual (==)\n",
    ">\n",
    "> \\_\\_ne\\_\\_ : not equal/diferente (!=)"
   ]
  },
  {
   "cell_type": "markdown",
   "metadata": {},
   "source": [
    "Lista não exaustiva dos métodos mágicos e sua função vistos até agora\n",
    "\n",
    "|      Método      |                  Função                |\n",
    "| ---------------- | -------------------------------------- |\n",
    "| \\_\\_new\\_\\_      | Criar novas instâncias de objetos      |\n",
    "| \\_\\_init\\_\\_     | Construtor de classe                   |\n",
    "| \\_\\_str\\_\\_      | Coerção/representação como string      |\n",
    "| \\_\\_int\\_\\_      | Coerção/representação como int         |\n",
    "| \\_\\_float\\_\\_    | Coerção/representação como float       |\n",
    "| \\_\\_bool\\_\\_     | Coerção/representação como bool        |\n",
    "| \\_\\add\\_\\_       | adição (+)                             |\n",
    "| \\_\\_sub\\_\\_      | subtração (-)                          |\n",
    "| \\_\\_mul\\_\\_      | multiplicação (*)                      |\n",
    "| \\_\\_truediv\\_\\_  | divisão real (/)                       |\n",
    "| \\_\\_floordiv\\_\\_ | divisão inteira (//)                   |\n",
    "| \\_\\_mod\\_\\_      | resto da divisão (%)                   |\n",
    "| \\_\\_gt\\_\\_       | greater than / maior que (>)           |\n",
    "| \\_\\_ge\\_\\_       | greater or equal / maior ou igual (>=) |\n",
    "| \\_\\_lt\\_\\_       | less than / menor que (<)              |\n",
    "| \\_\\_le\\_\\_       | less or equal / menor ou igual (<=)    |\n",
    "| \\_\\_eq\\_\\_       | equal / igual (==)                     |\n",
    "| \\_\\_ne\\_\\_       | not equal / diferente (!=)             |"
   ]
  },
  {
   "cell_type": "markdown",
   "metadata": {},
   "source": [
    "Estes sites possuem uma lista dos principais métodos mágicos e suas utilizações:\n",
    "\n",
    "https://www.tutorialsteacher.com/python/magic-methods-in-python\n",
    "\n",
    "https://rszalski.github.io/magicmethods/"
   ]
  }
 ],
 "metadata": {
  "kernelspec": {
   "display_name": "Python 3",
   "language": "python",
   "name": "python3"
  },
  "language_info": {
   "codemirror_mode": {
    "name": "ipython",
    "version": 3
   },
   "file_extension": ".py",
   "mimetype": "text/x-python",
   "name": "python",
   "nbconvert_exporter": "python",
   "pygments_lexer": "ipython3",
   "version": "3.11.1"
  },
  "orig_nbformat": 4
 },
 "nbformat": 4,
 "nbformat_minor": 2
}
