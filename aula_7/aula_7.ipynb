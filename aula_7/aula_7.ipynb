{
 "cells": [
  {
   "cell_type": "markdown",
   "metadata": {},
   "source": [
    "Herança\n",
    "\n",
    "retomando o ponto da aula 2 sobre criar um atributo privado, exposto via @property\n",
    "\n",
    "Respondendo a dúvida\n",
    "\n",
    "é possível deixar o atributo como privado, e com o decorator @property ele ser acessível na classe filha"
   ]
  },
  {
   "cell_type": "code",
   "execution_count": null,
   "metadata": {},
   "outputs": [],
   "source": [
    "class Funcionario:\n",
    "    def __init__(self, nome_func: str, cargo_func: str, valor_hora_func: float):\n",
    "        self.nome: str = nome_func\n",
    "        self.cargo: str = cargo_func\n",
    "        self.valor_hora: float = valor_hora_func\n",
    "        self.__salario: float = 0.0  # salário é de fato privado\n",
    "        self.__horas_trabalhadas: int = 0  # horas trabalhadas é de fato privada\n",
    "\n",
    "    def registrar_horas_trabalhadas(self):\n",
    "        self.__horas_trabalhadas += 1\n",
    "\n",
    "    def calcular_salario(self):\n",
    "        self._salario = self.__horas_trabalhadas * self.valor_hora\n",
    "\n",
    "    # get horas trabalhadas\n",
    "    @property\n",
    "    def horas_trabalhadas(self):\n",
    "        return self.__horas_trabalhadas\n",
    "\n",
    "    # set horas trabalhadas\n",
    "    @horas_trabalhadas.setter\n",
    "    def horas_trabalhadas(self, qtde_horas):\n",
    "        self.__horas_trabalhadas = qtde_horas\n",
    "\n",
    "    # get salario\n",
    "    @property\n",
    "    def salario(self):\n",
    "        return self.__salario\n",
    "\n",
    "\n",
    "class Auxiliar(Funcionario):\n",
    "    def __init__(self, nome_func: str, cargo_func: str, valor_hora_func: float):\n",
    "        Funcionario.__init__(self, nome_func=nome_func, cargo_func=cargo_func, valor_hora_func=valor_hora_func)\n",
    "        self.atributo_do_filho = 'atr'\n",
    "\n",
    "aux = Auxiliar('Pedro', 'Engenheiro de dados', 100)\n",
    "print(aux.valor_hora)\n",
    "aux.registrar_horas_trabalhadas()\n",
    "aux.registrar_horas_trabalhadas()\n",
    "print(aux.horas_trabalhadas)  # criando a propriedade para expor as horas trabalhadas\n",
    "aux.horas_trabalhadas = 180   # conseguimos ver e modificar a partir da classe filha\n",
    "print(aux.horas_trabalhadas)  # por causa do decorator\n"
   ]
  }
 ],
 "metadata": {
  "language_info": {
   "name": "python"
  },
  "orig_nbformat": 4
 },
 "nbformat": 4,
 "nbformat_minor": 2
}
