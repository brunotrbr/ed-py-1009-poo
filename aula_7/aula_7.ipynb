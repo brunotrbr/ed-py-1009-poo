{
 "cells": [
  {
   "cell_type": "markdown",
   "metadata": {},
   "source": [
    "# Programação Orientada a Objetos - Aula 7\n",
    "\n",
    "# Métodos mágicos\n",
    "\n",
    "- Métodos **pré-definidos** existentes em todos os objetos, com **invocação automática**\n",
    "\n",
    "- Normalmente não são executados pelo usuário, mas podem ser ser caso haja necessidade\n",
    "\n",
    "- Podem ser sobrescritos para alterar o comportamento de uma classe\n",
    "\n",
    "- Padrão de nome: _dunder_ (double underscore): \n",
    "\n",
    "```python\n",
    "__name__(parametros)\n",
    "```\n",
    "\n",
    "Para ver seu funcionamento, vamos usar a classe Drex abaixo:"
   ]
  },
  {
   "cell_type": "code",
   "execution_count": 3,
   "metadata": {},
   "outputs": [
    {
     "data": {
      "text/plain": [
       "['__class__',\n",
       " '__delattr__',\n",
       " '__dict__',\n",
       " '__dir__',\n",
       " '__doc__',\n",
       " '__eq__',\n",
       " '__format__',\n",
       " '__ge__',\n",
       " '__getattribute__',\n",
       " '__getstate__',\n",
       " '__gt__',\n",
       " '__hash__',\n",
       " '__init__',\n",
       " '__init_subclass__',\n",
       " '__le__',\n",
       " '__lt__',\n",
       " '__module__',\n",
       " '__ne__',\n",
       " '__new__',\n",
       " '__reduce__',\n",
       " '__reduce_ex__',\n",
       " '__repr__',\n",
       " '__setattr__',\n",
       " '__sizeof__',\n",
       " '__str__',\n",
       " '__subclasshook__',\n",
       " '__weakref__']"
      ]
     },
     "execution_count": 3,
     "metadata": {},
     "output_type": "execute_result"
    }
   ],
   "source": [
    "class Drex:\n",
    "    def __init__(self, valor):\n",
    "        self._valor = valor\n",
    "\n",
    "dir(Drex)"
   ]
  },
  {
   "cell_type": "markdown",
   "metadata": {},
   "source": [
    "## Métodos de construção\n",
    "\n",
    "No java:\n",
    "\n",
    "```java\n",
    "Drex instancia_drex = new Drex(5);\n",
    "```"
   ]
  },
  {
   "cell_type": "markdown",
   "metadata": {},
   "source": [
    "E no python?"
   ]
  },
  {
   "cell_type": "markdown",
   "metadata": {},
   "source": [
    "\n",
    "### \\_\\_new\\_\\_\n",
    "\n",
    "- Usado internamente para criar novas instâncias **vazias** de uma classe, antes da execução do \\_\\_init\\_\\_"
   ]
  },
  {
   "cell_type": "code",
   "execution_count": 11,
   "metadata": {},
   "outputs": [
    {
     "name": "stdout",
     "output_type": "stream",
     "text": [
      "Executando o __new__\n",
      "Executando o __init__\n",
      "<__main__.Drex object at 0x7fbb401d7dd0>\n",
      "[123]\n",
      "{'chave': 'valor'}\n"
     ]
    }
   ],
   "source": [
    "class Drex:\n",
    "    # o __new__ deve receber a mesma quantidade de parâmetros que o __init__\n",
    "    def __new__(cls, *args, **kwargs): # agora o __new__ pode receber qualquer quantidade de parâmetros\n",
    "        print('Executando o __new__')\n",
    "        inst = object.__new__(cls)\n",
    "        return inst\n",
    "    \n",
    "    def __init__(self, valor):\n",
    "        print('Executando o __init__')\n",
    "        self._valor = valor\n",
    "\n",
    "drex = Drex(5)"
   ]
  },
  {
   "cell_type": "markdown",
   "metadata": {},
   "source": [
    "Lista não exaustiva dos métodos mágicos e sua função vistos até agora\n",
    "\n",
    "|    Método    |               Função              |\n",
    "| ------------ | --------------------------------- |\n",
    "| \\_\\_new\\_\\_  | Criar novas instâncias de objetos |\n",
    "| \\_\\_init\\_\\_ | Construtor de classe              |"
   ]
  },
  {
   "cell_type": "markdown",
   "metadata": {},
   "source": [
    "## Métodos de representação"
   ]
  },
  {
   "cell_type": "code",
   "execution_count": null,
   "metadata": {},
   "outputs": [],
   "source": [
    "drex = Drex(5)\n",
    "\n",
    "print(drex)\n",
    "\n",
    "lista = [123]\n",
    "print(lista)\n",
    "dicionario = {'chave': 'valor'}\n",
    "print(dicionario)"
   ]
  },
  {
   "cell_type": "markdown",
   "metadata": {},
   "source": [
    "\n",
    "### \\_\\_str\\_\\_\n",
    "\n",
    "- Exibe a representação daquele objeto como string"
   ]
  },
  {
   "cell_type": "code",
   "execution_count": 17,
   "metadata": {},
   "outputs": [
    {
     "name": "stdout",
     "output_type": "stream",
     "text": [
      "R$ 5\n",
      "R$ 3.978\n"
     ]
    }
   ],
   "source": [
    "class Drex:\n",
    "    def __new__(cls, *args, **kwargs):\n",
    "        inst = object.__new__(cls)\n",
    "        return inst\n",
    "    \n",
    "    def __init__(self, valor):\n",
    "        self._valor = valor\n",
    "\n",
    "    def __str__(self):\n",
    "        arredondado = round(self._valor, 2)\n",
    "        return f'R$ {arredondado:.2f}'"
   ]
  },
  {
   "cell_type": "code",
   "execution_count": null,
   "metadata": {},
   "outputs": [],
   "source": [
    "drex = Drex(5)\n",
    "print(drex)\n",
    "\n",
    "drex = Drex(3.9785)\n",
    "print(drex)"
   ]
  },
  {
   "cell_type": "markdown",
   "metadata": {},
   "source": [
    "O \\_\\_str\\_\\_ seria o semelhante ao toString() do Java"
   ]
  },
  {
   "cell_type": "markdown",
   "metadata": {},
   "source": [
    "### Observação\n",
    "\n",
    "- Tecnicamente, \\_\\_str\\_\\_ está \"ensinando\" o python a como gerar uma string a partir de seu objeto. Podemos usar também outras coerções de tipos, como `__int__`, `__bool__` e `__float__`."
   ]
  },
  {
   "cell_type": "code",
   "execution_count": 5,
   "metadata": {},
   "outputs": [],
   "source": [
    "class Drex:\n",
    "    def __new__(cls, *args, **kwargs):\n",
    "        inst = object.__new__(cls)\n",
    "        return inst\n",
    "    \n",
    "    def __init__(self, valor):\n",
    "        self._valor = valor\n",
    "\n",
    "    def __str__(self):\n",
    "        arredondado = round(self._valor, 2)\n",
    "        return f'R$ {arredondado:.2f}'\n",
    "    \n",
    "    def __float__(self):\n",
    "        return float(self._valor)\n",
    "    \n",
    "    def __int__(self):\n",
    "        return int(self._valor)\n",
    "    \n",
    "    def __bool__(self):\n",
    "        if self._valor > 0:\n",
    "            return True\n",
    "        return False"
   ]
  },
  {
   "cell_type": "code",
   "execution_count": 9,
   "metadata": {},
   "outputs": [
    {
     "name": "stdout",
     "output_type": "stream",
     "text": [
      "5.0\n",
      "5\n",
      "R$ 3.98\n",
      "False\n",
      "False\n",
      "True\n"
     ]
    }
   ],
   "source": [
    "drex = Drex(5)\n",
    "print(float(drex))\n",
    "print(int(drex))\n",
    "\n",
    "drex = Drex(3.9785)\n",
    "print(drex)\n",
    "\n",
    "drex = Drex(-1)\n",
    "print(bool(drex))\n",
    "\n",
    "drex = Drex(0)\n",
    "print(bool(drex))\n",
    "\n",
    "drex = Drex(1)\n",
    "print(bool(drex))"
   ]
  },
  {
   "cell_type": "markdown",
   "metadata": {},
   "source": [
    "Lista não exaustiva dos métodos mágicos e sua função vistos até agora\n",
    "\n",
    "|     Método    |               Função              |\n",
    "| ------------- | --------------------------------- |\n",
    "| \\_\\_new\\_\\_   | Criar novas instâncias de objetos |\n",
    "| \\_\\_init\\_\\_  | Construtor de classe              |\n",
    "| \\_\\_str\\_\\_   | Coerção/representação como string |\n",
    "| \\_\\_int\\_\\_   | Coerção/representação como int    |\n",
    "| \\_\\_float\\_\\_ | Coerção/representação como float  |\n",
    "| \\_\\_bool\\_\\_  | Coerção/representação como bool   |"
   ]
  },
  {
   "cell_type": "markdown",
   "metadata": {},
   "source": [
    "## Métodos aritméticos\n",
    "\n",
    "Vamos considerar a seguinte operação matemática:\n",
    "\n",
    "```python\n",
    "d1 = Drex(3)\n",
    "d2 = Drex(1.5)\n",
    "\n",
    "soma = d1 + d2\n",
    "```"
   ]
  },
  {
   "cell_type": "code",
   "execution_count": null,
   "metadata": {},
   "outputs": [],
   "source": [
    "d1 = Drex(3)\n",
    "d2 = Drex(1.5)\n",
    "\n",
    "soma = d1 + d2"
   ]
  },
  {
   "cell_type": "markdown",
   "metadata": {},
   "source": [
    "\n",
    "- Métodos aritméticos definem como o objeto deve agir caso receba uma operação com os sinais aritméticos: `+`, `-`, `*`, `/`, `%`, etc\n",
    "- Ex:\n",
    "- - Números: realiza a soma\n",
    "- - Strings: realiza a concatenação"
   ]
  },
  {
   "cell_type": "code",
   "execution_count": null,
   "metadata": {},
   "outputs": [],
   "source": [
    "print(2+3)\n",
    "print('conca'+'tenação')\n",
    "print([2]+[3])"
   ]
  },
  {
   "cell_type": "markdown",
   "metadata": {},
   "source": [
    "\n",
    "### \\_\\_add\\_\\_\n",
    "\n",
    "- Na operação `instancia_1 + instancia_2`, o python interpreta como `instancia1.__add__(instancia2)`"
   ]
  },
  {
   "cell_type": "code",
   "execution_count": 14,
   "metadata": {},
   "outputs": [
    {
     "name": "stdout",
     "output_type": "stream",
     "text": [
      "11\n",
      "ab\n"
     ]
    }
   ],
   "source": [
    "d1 = Drex(2)\n",
    "d2 = Drex(3)\n",
    "print(d1+d2) # da erro pois o programa não sabe o que fazer com o sinal de +\n",
    "# d1.__add__(d2)"
   ]
  },
  {
   "cell_type": "code",
   "execution_count": 24,
   "metadata": {},
   "outputs": [],
   "source": [
    "\n",
    "class Drex:\n",
    "    def __new__(cls, *args, **kwargs):\n",
    "        inst = object.__new__(cls)\n",
    "        return inst\n",
    "    \n",
    "    def __init__(self, valor):\n",
    "        self._valor = valor\n",
    "\n",
    "    def __str__(self):\n",
    "        arredondado = round(self._valor, 2)\n",
    "        return f'R$ {arredondado:.2f}'\n",
    "    \n",
    "    def __float__(self):\n",
    "        return float(self._valor)\n",
    "    \n",
    "    def __int__(self):\n",
    "        return int(self._valor)\n",
    "    \n",
    "    def __bool__(self):\n",
    "        if self._valor > 0:\n",
    "            return True\n",
    "        return False\n",
    "    \n",
    "    def __add__(self, x):\n",
    "        soma = self._valor + x._valor # para poder acessar o valor da classe\n",
    "        return Drex(soma)\n",
    "        # return float(soma) # isso está errado pois eu espero que a soma de dois objetos do tipo Drex seja um objeto do tipo Drex, não um float\n",
    "    \n",
    "    def __sub__(self, x):\n",
    "        return Drex(self._valor - x._valor) # para poder acessar o valor da classe"
   ]
  },
  {
   "cell_type": "code",
   "execution_count": 25,
   "metadata": {},
   "outputs": [
    {
     "name": "stdout",
     "output_type": "stream",
     "text": [
      "R$ 5.05\n",
      "R$ -4.31\n"
     ]
    }
   ],
   "source": [
    "d1 = Drex(0.37)\n",
    "d2 = Drex(4.68)\n",
    "print(d1+d2)\n",
    "# # caso retorne um float, precisa converter novamente para Drex\n",
    "# result = Drex(d1+d2)\n",
    "\n",
    "print(d1-d2)\n"
   ]
  },
  {
   "cell_type": "markdown",
   "metadata": {},
   "source": [
    "Outras operações matemáticas que podem ser implementadas com métodos mágicos:\n",
    "\n",
    "> \\_\\_sub\\_\\_ : subtração (-)\n",
    ">\n",
    "> \\_\\_mul\\_\\_ : multiplicação (*)\n",
    ">\n",
    "> \\_\\_truediv\\_\\_ : divisão real (/)\n",
    ">\n",
    "> \\_\\_floordiv\\_\\_ : divisão inteira (//)\n",
    ">\n",
    "> \\_\\_mod\\_\\_ : resto da divisão (%)\n"
   ]
  },
  {
   "cell_type": "markdown",
   "metadata": {},
   "source": [
    "Lista não exaustiva dos métodos mágicos e sua função vistos até agora\n",
    "\n",
    "|      Método      |               Função              |\n",
    "| ---------------- | --------------------------------- |\n",
    "| \\_\\_new\\_\\_      | Criar novas instâncias de objetos |\n",
    "| \\_\\_init\\_\\_     | Construtor de classe              |\n",
    "| \\_\\_str\\_\\_      | Coerção/representação como string |\n",
    "| \\_\\_int\\_\\_      | Coerção/representação como int    |\n",
    "| \\_\\_float\\_\\_    | Coerção/representação como float  |\n",
    "| \\_\\_bool\\_\\_     | Coerção/representação como bool   |\n",
    "| \\_\\_add\\_\\_       | adição (+)                        |\n",
    "| \\_\\_sub\\_\\_      | subtração (-)                     |\n",
    "| \\_\\_mul\\_\\_      | multiplicação (*)                 |\n",
    "| \\_\\_truediv\\_\\_  | divisão real (/)                  |\n",
    "| \\_\\_floordiv\\_\\_ | divisão inteira (//)              |\n",
    "| \\_\\_mod\\_\\_      | resto da divisão (%)              |"
   ]
  },
  {
   "cell_type": "markdown",
   "metadata": {},
   "source": [
    "## Métodos de comparação\n",
    "\n",
    "- Define como o objeto deve agir caso receba uma operação com os sinais de comparação: `>`, `!=`, `==`, `<`, etc\n",
    "\n",
    "&nbsp;\n",
    "\n",
    "### \\_\\_gt\\_\\_\n",
    "\n",
    "- Na operação `instancia_1 > instancia_2`, o python interpreta como `instancia1.__gt__(instancia2)`"
   ]
  },
  {
   "cell_type": "code",
   "execution_count": 26,
   "metadata": {},
   "outputs": [],
   "source": [
    "\n",
    "class Drex:\n",
    "    def __new__(cls, *args, **kwargs):\n",
    "        inst = object.__new__(cls)\n",
    "        return inst\n",
    "    \n",
    "    def __init__(self, valor):\n",
    "        self._valor = valor\n",
    "\n",
    "    def __str__(self):\n",
    "        arredondado = round(self._valor, 2)\n",
    "        return f'R$ {arredondado:.2f}'\n",
    "    \n",
    "    def __float__(self):\n",
    "        return float(self._valor)\n",
    "    \n",
    "    def __int__(self):\n",
    "        return int(self._valor)\n",
    "    \n",
    "    def __bool__(self):\n",
    "        if self._valor > 0:\n",
    "            return True\n",
    "        return False\n",
    "    \n",
    "    def __add__(self, x):\n",
    "        soma = self._valor + x._valor\n",
    "        return Drex(soma)\n",
    "    \n",
    "    def __sub__(self, x):\n",
    "        return Drex(self._valor - x._valor)\n",
    "    \n",
    "    def __gt__(self, x):\n",
    "        return self._valor > x._valor\n",
    "\n",
    "    def __ge__(self, x):\n",
    "        return self._valor >= x._valor"
   ]
  },
  {
   "cell_type": "code",
   "execution_count": 28,
   "metadata": {},
   "outputs": [
    {
     "name": "stdout",
     "output_type": "stream",
     "text": [
      "False\n",
      "True\n",
      "R$ 0.00\n"
     ]
    }
   ],
   "source": [
    "d1 = Drex(0.37)\n",
    "d2 = Drex(4.68)\n",
    "print(d1>d2)\n",
    "print(d1>=d2)\n",
    "print(d1-d2)\n",
    "\n",
    "d1 = Drex(0.37)\n",
    "d2 = Drex(0.37)\n",
    "print(d1>d2)\n",
    "print(d1>=d2)\n",
    "print(d1-d2)"
   ]
  },
  {
   "cell_type": "markdown",
   "metadata": {},
   "source": [
    "Outras operações de comparação que podem ser implementadas com métodos mágicos:\n",
    "\n",
    "> \\_\\_gt\\_\\_ : greater than/maior que (>)\n",
    ">\n",
    "> \\_\\_ge\\_\\_ : greater or equal/maior ou igual (>=)\n",
    ">\n",
    "> \\_\\_lt\\_\\_ : less than/menor que (<)\n",
    ">\n",
    "> \\_\\_le\\_\\_ : less or equal/menor ou igual (<=)\n",
    ">\n",
    "> \\_\\_eq\\_\\_ : equal/igual (==)\n",
    ">\n",
    "> \\_\\_ne\\_\\_ : not equal/diferente (!=)"
   ]
  },
  {
   "cell_type": "markdown",
   "metadata": {},
   "source": [
    "Lista não exaustiva dos métodos mágicos e sua função vistos até agora\n",
    "\n",
    "|      Método      |                  Função                |\n",
    "| ---------------- | -------------------------------------- |\n",
    "| \\_\\_new\\_\\_      | Criar novas instâncias de objetos      |\n",
    "| \\_\\_init\\_\\_     | Construtor de classe                   |\n",
    "| \\_\\_str\\_\\_      | Coerção/representação como string      |\n",
    "| \\_\\_int\\_\\_      | Coerção/representação como int         |\n",
    "| \\_\\_float\\_\\_    | Coerção/representação como float       |\n",
    "| \\_\\_bool\\_\\_     | Coerção/representação como bool        |\n",
    "| \\_\\_add\\_\\_      | adição (+)                             |\n",
    "| \\_\\_sub\\_\\_      | subtração (-)                          |\n",
    "| \\_\\_mul\\_\\_      | multiplicação (*)                      |\n",
    "| \\_\\_truediv\\_\\_  | divisão real (/)                       |\n",
    "| \\_\\_floordiv\\_\\_ | divisão inteira (//)                   |\n",
    "| \\_\\_mod\\_\\_      | resto da divisão (%)                   |\n",
    "| \\_\\_gt\\_\\_       | greater than / maior que (>)           |\n",
    "| \\_\\_ge\\_\\_       | greater or equal / maior ou igual (>=) |\n",
    "| \\_\\_lt\\_\\_       | less than / menor que (<)              |\n",
    "| \\_\\_le\\_\\_       | less or equal / menor ou igual (<=)    |\n",
    "| \\_\\_eq\\_\\_       | equal / igual (==)                     |\n",
    "| \\_\\_ne\\_\\_       | not equal / diferente (!=)             |"
   ]
  },
  {
   "cell_type": "markdown",
   "metadata": {},
   "source": [
    "Estes sites possuem uma lista dos principais métodos mágicos e suas utilizações:\n",
    "\n",
    "https://www.tutorialsteacher.com/python/magic-methods-in-python\n",
    "\n",
    "https://rszalski.github.io/magicmethods/"
   ]
  }
 ],
 "metadata": {
  "kernelspec": {
   "display_name": "Python 3",
   "language": "python",
   "name": "python3"
  },
  "language_info": {
   "codemirror_mode": {
    "name": "ipython",
    "version": 3
   },
   "file_extension": ".py",
   "mimetype": "text/x-python",
   "name": "python",
   "nbconvert_exporter": "python",
   "pygments_lexer": "ipython3",
   "version": "3.11.1"
  },
  "orig_nbformat": 4
 },
 "nbformat": 4,
 "nbformat_minor": 2
}
